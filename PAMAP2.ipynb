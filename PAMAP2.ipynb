{
 "cells": [
  {
   "cell_type": "markdown",
   "id": "6f78f973",
   "metadata": {},
   "source": [
    "# Introduction\n",
    "\n",
    "\n",
    "The dataset used is PAMAP2 which is an Activity Monitoring dataset that covers 18 different physical activities which are taken by 9 different subjects, 8 men and 1 woman, taken using 3 inertial measurement units and a heart rate monitor.\n",
    "The dataset can be used for activity recognition and intensity estimation, while developing and applying algorithms of data processing, extraction and classification. the PAMAP2 Physical Activity Monitoring dataset will be used  to extract actionable insights that will allow the development of HAR software and/or hardware for fitness tracking. \n",
    "\n",
    "The objectives of the assignment are the following:\n",
    "- To carry out thorough exploratory data analysis and appropriately handle missing or dirty data;\n",
    "- To develop and test at least one hypothesis for a relationship between a single pair of attributes;\n",
    "- To develop and test at least one model which uses multiple attributes to make predictions."
   ]
  },
  {
   "cell_type": "markdown",
   "id": "ea4e1d28",
   "metadata": {},
   "source": [
    "# Data Loading"
   ]
  },
  {
   "cell_type": "markdown",
   "id": "e0310cf2",
   "metadata": {},
   "source": [
    "The first step is to import all the necessary libraries"
   ]
  },
  {
   "cell_type": "code",
   "execution_count": 2,
   "id": "fbce0d4c",
   "metadata": {},
   "outputs": [],
   "source": [
    "#Required cell: This cell needs to be executed to import the necessary libraries\n",
    "import pandas as pd\n",
    "from matplotlib import pyplot as plt\n",
    "from matplotlib.colors import LinearSegmentedColormap\n",
    "import seaborn as sns\n",
    "import numpy as np\n",
    "from scipy import stats\n",
    "from scipy import integrate\n",
    "from IPython.display import HTML, display\n",
    "from scipy.stats import norm\n",
    "from scipy.stats import t as the\n",
    "from sklearn import svm\n",
    "from sklearn.metrics import classification_report, accuracy_score, precision_score, recall_score, f1_score\n",
    "from sklearn import tree\n",
    "%matplotlib inline\n",
    "pd.set_option('display.max_rows', 20)\n",
    "pd.set_option('display.max_columns', 70)\n",
    "from sklearn.model_selection import train_test_split"
   ]
  },
  {
   "cell_type": "markdown",
   "id": "af76cb7c",
   "metadata": {},
   "source": [
    "As part of loading we have to create a list first (list_of_files) which consists of all the file names and the path which needs to be loaded. This list will be used for calling the files. Then we create a list, subjectID which consist of all numbers 1 to 9 which represents the 9 subjects. After that we create a dictionary which consists of the activity ID as the key and the  name of the activity as the value. Then we createa list colNames which consists of the first 3 columns, then the IMU hand, chest ankle lists are created which consists of all the attributes which each of the IMU have. After create these lists, we concatnate them to the variable columns."
   ]
  },
  {
   "cell_type": "code",
   "execution_count": 3,
   "id": "ebffcc5e",
   "metadata": {},
   "outputs": [],
   "source": [
    "# Load data\n",
    "list_of_files = ['D:/DS/DSRM/ASSIGNMENT/PAMAP2_Dataset/PAMAP2_Dataset/Protocol/subject101.dat',\n",
    "    'D:/DS/DSRM/ASSIGNMENT/PAMAP2_Dataset/PAMAP2_Dataset/Protocol/subject102.dat',\n",
    "    'D:/DS/DSRM/ASSIGNMENT/PAMAP2_Dataset/PAMAP2_Dataset/Protocol/subject103.dat',\n",
    "    'D:/DS/DSRM/ASSIGNMENT/PAMAP2_Dataset/PAMAP2_Dataset/Protocol/subject104.dat',\n",
    "    'D:/DS/DSRM/ASSIGNMENT/PAMAP2_Dataset/PAMAP2_Dataset/Protocol/subject105.dat',\n",
    "    'D:/DS/DSRM/ASSIGNMENT/PAMAP2_Dataset/PAMAP2_Dataset/Protocol/subject106.dat',\n",
    "    'D:/DS/DSRM/ASSIGNMENT/PAMAP2_Dataset/PAMAP2_Dataset/Protocol/subject107.dat',\n",
    "    'D:/DS/DSRM/ASSIGNMENT/PAMAP2_Dataset/PAMAP2_Dataset/Protocol/subject108.dat',\n",
    "    'D:/DS/DSRM/ASSIGNMENT/PAMAP2_Dataset/PAMAP2_Dataset/Protocol/subject109.dat' ]\n",
    "\n",
    "subjectID = [1,2,3,4,5,6,7,8,9]\n",
    "\n",
    "activityIDdict = {0: 'transient',\n",
    "              1: 'lying',\n",
    "              2: 'sitting',\n",
    "              3: 'standing',\n",
    "              4: 'walking',\n",
    "              5: 'running',\n",
    "              6: 'cycling',\n",
    "              7: 'Nordic_walking',\n",
    "              9: 'watching_TV',\n",
    "              10: 'computer_work',\n",
    "              11: 'car driving',\n",
    "              12: 'ascending_stairs',\n",
    "              13: 'descending_stairs',\n",
    "              16: 'vacuum_cleaning',\n",
    "              17: 'ironing',\n",
    "              18: 'folding_laundry',\n",
    "              19: 'house_cleaning',\n",
    "              20: 'playing_soccer',\n",
    "              24: 'rope_jumping' }\n",
    "\n",
    "colNames = [\"timestamp\", \"activityID\",\"heartrate\"]\n",
    "\n",
    "IMUhand = ['handTemperature', \n",
    "           'handAcc16_1', 'handAcc16_2', 'handAcc16_3', \n",
    "           'handAcc6_1', 'handAcc6_2', 'handAcc6_3', \n",
    "           'handGyro1', 'handGyro2', 'handGyro3', \n",
    "           'handMagne1', 'handMagne2', 'handMagne3',\n",
    "           'handOrientation1', 'handOrientation2', 'handOrientation3', 'handOrientation4']\n",
    "\n",
    "IMUchest = ['chestTemperature', \n",
    "           'chestAcc16_1', 'chestAcc16_2', 'chestAcc16_3', \n",
    "           'chestAcc6_1', 'chestAcc6_2', 'chestAcc6_3', \n",
    "           'chestGyro1', 'chestGyro2', 'chestGyro3', \n",
    "           'chestMagne1', 'chestMagne2', 'chestMagne3',\n",
    "           'chestOrientation1', 'chestOrientation2', 'chestOrientation3', 'chestOrientation4']\n",
    "\n",
    "IMUankle = ['ankleTemperature', \n",
    "           'ankleAcc16_1', 'ankleAcc16_2', 'ankleAcc16_3', \n",
    "           'ankleAcc6_1', 'ankleAcc6_2', 'ankleAcc6_3', \n",
    "           'ankleGyro1', 'ankleGyro2', 'ankleGyro3', \n",
    "           'ankleMagne1', 'ankleMagne2', 'ankleMagne3',\n",
    "           'ankleOrientation1', 'ankleOrientation2', 'ankleOrientation3', 'ankleOrientation4']\n",
    "\n",
    "columns = colNames + IMUhand + IMUchest + IMUankle  #all columns in one list\n",
    "\n",
    "\n",
    "    "
   ]
  },
  {
   "cell_type": "markdown",
   "id": "e5e4679a",
   "metadata": {},
   "source": [
    "The function load_activity_map() is created which will be used to map the Id with the activity, the dunction pd_fast_plot is created which will be used to plot the graphs, when we create three lists, light_acts, mod_acts, vig_acts which has th eIDs of the activities which are light, moderate and vigorous and these are put correspondingly to the activily levels."
   ]
  },
  {
   "cell_type": "code",
   "execution_count": 4,
   "id": "507e8135",
   "metadata": {},
   "outputs": [],
   "source": [
    "def load_activity_map():\n",
    "    map = {}\n",
    "    map[0] = 'transient'\n",
    "    map[1] = 'lying'\n",
    "    map[2] = 'sitting'\n",
    "    map[3] = 'standing'\n",
    "    map[4] = 'walking'\n",
    "    map[5] = 'running'\n",
    "    map[6] = 'cycling'\n",
    "    map[7] = 'Nordic_walking'\n",
    "    map[9] = 'watching_TV'\n",
    "    map[10] = 'computer_work'\n",
    "    map[11] = 'car driving'\n",
    "    map[12] = 'ascending_stairs'\n",
    "    map[13] = 'descending_stairs'\n",
    "    map[16] = 'vacuum_cleaning'\n",
    "    map[17] = 'ironing'\n",
    "    map[18] = 'folding_laundry'\n",
    "    map[19] = 'house_cleaning'\n",
    "    map[20] = 'playing_soccer'\n",
    "    map[24] = 'rope_jumping'\n",
    "    return map\n",
    "def pd_fast_plot(pd,column_a,column_b,title, figsize=(10,6)):\n",
    "    plt.rcParams.update({'font.size': 16})\n",
    "    size = range(len(pd))\n",
    "    f, ax = plt.subplots(figsize=figsize) \n",
    "    plt.bar(size, pd[column_a], color=plt.cm.Paired(size))\n",
    "    a = ax.set_xticklabels(pd[column_b])\n",
    "    b = ax.legend(fontsize = 20)\n",
    "    c = ax.set_xticks(np.arange(len(pd)))\n",
    "    d = ax.set_title(title)\n",
    "    plt.show()\n",
    "\n",
    "    #lying, sitting, standing and ironing\n",
    "light_acts = [1,2,3,17]\n",
    "#vacuum cleaning, descending stairs, walking, Nordic walking and cycling\n",
    "mod_acts = [16,13,4,7,6]\n",
    "#ascending stairs, running and rope jumping\n",
    "vig_acts = [12,5,24]\n",
    "\n",
    "#Function used to classify activities\n",
    "def map_met(act_id):\n",
    "    if act_id in light_acts:\n",
    "        return 'light'\n",
    "    if act_id in mod_acts:\n",
    "        return 'moderate'\n",
    "    if act_id in vig_acts:\n",
    "        return 'vigorous'\n",
    "    "
   ]
  },
  {
   "cell_type": "markdown",
   "id": "25e5b382",
   "metadata": {},
   "source": [
    "In the following cell we are loading all the data into a single dataframe, we call the files one by one and then put the content into a dataframe where we set the column names too."
   ]
  },
  {
   "cell_type": "code",
   "execution_count": 5,
   "id": "d7289185",
   "metadata": {},
   "outputs": [],
   "source": [
    "dataCollection = pd.DataFrame()\n",
    "for file in list_of_files:\n",
    "    procData = pd.read_table(file, header=None, sep='\\s+')\n",
    "    procData.columns = columns\n",
    "    procData['subject_id'] = int(file[-5])\n",
    "    dataCollection = dataCollection.append(procData, ignore_index=True)\n",
    "\n",
    "dataCollection.reset_index(drop=True, inplace=True)\n"
   ]
  },
  {
   "cell_type": "code",
   "execution_count": 6,
   "id": "2a0bb020",
   "metadata": {},
   "outputs": [
    {
     "data": {
      "text/plain": [
       "2872533"
      ]
     },
     "execution_count": 6,
     "metadata": {},
     "output_type": "execute_result"
    }
   ],
   "source": [
    "len(dataCollection)"
   ]
  },
  {
   "cell_type": "markdown",
   "id": "1f3d86b8",
   "metadata": {},
   "source": [
    "## Data Cleaning"
   ]
  },
  {
   "cell_type": "markdown",
   "id": "93f2d839",
   "metadata": {},
   "source": [
    "As part of cleaning we are dropping the unnecessary columns that were mention in the report, all the orientation attributes that is the hand, chest and the ankle one are removed. Then we remove the throo hand acceleration columns wfor 6g cause due to high impacts caused by certain movements (e.g. during running) with acceleration over 6g, it gets saturated sometimes. Hence the acceleration over 16g is recommended.\n",
    "Then we drop all the rows where the activity id is 0 since this data mainly covers transient activities between performing different activities, e.g. going from one location to the next activity's location, or waiting for the preparation of some equipment.\n",
    "\n",
    "Then we create a new column activity level where we mention wether its a light, moderate or vigorous activity. After that we will create new rows where we combine the points in 3d space, we will make a combined column for handacc16_1,handacc16_2,handacc16_3 and likewise for handgyro and handmag. After this we will do the samefor ankle and chest. These will be helppful while plotting."
   ]
  },
  {
   "cell_type": "code",
   "execution_count": 7,
   "id": "8a8dcccf",
   "metadata": {},
   "outputs": [],
   "source": [
    "#Data cleaning\n",
    "dataCollection=dataCollection.drop(['handAcc6_1','handAcc6_2','handAcc6_3','handOrientation1', 'handOrientation2', 'handOrientation3', 'handOrientation4','chestOrientation1', 'chestOrientation2', 'chestOrientation3', 'chestOrientation4','ankleOrientation1', 'ankleOrientation2', 'ankleOrientation3', 'ankleOrientation4'],axis = 1) \n",
    "dataCollection = dataCollection.drop(dataCollection[dataCollection.activityID == 0].index)\n",
    "dataCollection = dataCollection.apply (pd.to_numeric, errors='coerce')\n",
    "dataCollection = dataCollection.dropna()\n"
   ]
  },
  {
   "cell_type": "code",
   "execution_count": 8,
   "id": "4ad259a5",
   "metadata": {},
   "outputs": [],
   "source": [
    "dataCollection.insert(1,'ActivityLevel',dataCollection['activityID'].apply(map_met))"
   ]
  },
  {
   "cell_type": "code",
   "execution_count": 9,
   "id": "1a43f319",
   "metadata": {},
   "outputs": [],
   "source": [
    "dataCollection.insert(4,'handMag',np.sqrt((dataCollection['handMagne1']**2)+(dataCollection['handMagne2']**2)+(dataCollection['handMagne2']**2)))\n",
    "dataCollection.insert(5,'handAcc',np.sqrt((dataCollection['handAcc16_1']**2)+(dataCollection['handAcc16_2']**2)+(dataCollection['handAcc16_3']**2)))\n",
    "dataCollection.insert(6,'handGyro',np.sqrt((dataCollection['handGyro1']**2)+(dataCollection['handGyro2']**2)+(dataCollection['handGyro3']**2)))\n",
    "\n",
    "dataCollection.insert(7,'chestMag',np.sqrt((dataCollection['chestMagne1']**2)+(dataCollection['chestMagne2']**2)+(dataCollection['chestMagne3']**2)))\n",
    "dataCollection.insert(8,'chestAcc',np.sqrt((dataCollection['chestAcc16_1']**2)+(dataCollection['chestAcc16_2']**2)+(dataCollection['chestAcc16_3']**2)))\n",
    "dataCollection.insert(9,'chestGyro',np.sqrt((dataCollection['chestGyro1']**2)+(dataCollection['chestGyro2']**2)+(dataCollection['chestGyro3']**2)))\n",
    "\n",
    "\n",
    "dataCollection.insert(10,'ankleMag',np.sqrt((dataCollection['ankleMagne1']**2)+(dataCollection['ankleMagne2']**2)+(dataCollection['ankleMagne3']**2)))\n",
    "dataCollection.insert(11,'ankleAcc',np.sqrt((dataCollection['ankleAcc16_1']**2)+(dataCollection['ankleAcc16_2']**2)+(dataCollection['ankleAcc16_3']**2)))\n",
    "dataCollection.insert(12,'ankleGyro',np.sqrt((dataCollection['ankleGyro1']**2)+(dataCollection['ankleGyro2']**2)+(dataCollection['ankleGyro3']**2)))\n",
    "\n"
   ]
  },
  {
   "cell_type": "code",
   "execution_count": 10,
   "id": "5fd30614",
   "metadata": {},
   "outputs": [],
   "source": [
    "dataCollection=dataCollection.drop(['handMagne1','handMagne2','handMagne1','handAcc16_1','handAcc16_2','handAcc16_3','handGyro1','handGyro2','handGyro3','chestMagne1','chestMagne2','chestMagne3','chestAcc16_1','chestAcc16_2','chestAcc16_3','chestGyro1','chestGyro2','chestGyro3','ankleMagne1','ankleMagne2','ankleMagne3','ankleAcc16_1','ankleAcc16_2','ankleAcc16_3','ankleGyro1','ankleGyro2','ankleGyro3','chestAcc6_1','chestAcc6_2','chestAcc6_3','ankleAcc6_1','ankleAcc6_2','ankleAcc6_3','handMagne3'],axis = 1) \n"
   ]
  },
  {
   "cell_type": "code",
   "execution_count": 11,
   "id": "d1570b95",
   "metadata": {},
   "outputs": [
    {
     "data": {
      "text/html": [
       "<div>\n",
       "<style scoped>\n",
       "    .dataframe tbody tr th:only-of-type {\n",
       "        vertical-align: middle;\n",
       "    }\n",
       "\n",
       "    .dataframe tbody tr th {\n",
       "        vertical-align: top;\n",
       "    }\n",
       "\n",
       "    .dataframe thead th {\n",
       "        text-align: right;\n",
       "    }\n",
       "</style>\n",
       "<table border=\"1\" class=\"dataframe\">\n",
       "  <thead>\n",
       "    <tr style=\"text-align: right;\">\n",
       "      <th></th>\n",
       "      <th>timestamp</th>\n",
       "      <th>ActivityLevel</th>\n",
       "      <th>activityID</th>\n",
       "      <th>heartrate</th>\n",
       "      <th>handMag</th>\n",
       "      <th>handAcc</th>\n",
       "      <th>handGyro</th>\n",
       "      <th>chestMag</th>\n",
       "      <th>chestAcc</th>\n",
       "      <th>chestGyro</th>\n",
       "      <th>ankleMag</th>\n",
       "      <th>ankleAcc</th>\n",
       "      <th>ankleGyro</th>\n",
       "      <th>handTemperature</th>\n",
       "      <th>chestTemperature</th>\n",
       "      <th>ankleTemperature</th>\n",
       "      <th>subject_id</th>\n",
       "    </tr>\n",
       "  </thead>\n",
       "  <tbody>\n",
       "    <tr>\n",
       "      <th>2932</th>\n",
       "      <td>37.70</td>\n",
       "      <td>light</td>\n",
       "      <td>1</td>\n",
       "      <td>100.0</td>\n",
       "      <td>95.450583</td>\n",
       "      <td>9.751993</td>\n",
       "      <td>0.072467</td>\n",
       "      <td>66.439341</td>\n",
       "      <td>9.875840</td>\n",
       "      <td>0.041521</td>\n",
       "      <td>91.396062</td>\n",
       "      <td>9.956473</td>\n",
       "      <td>0.049304</td>\n",
       "      <td>30.375</td>\n",
       "      <td>32.1875</td>\n",
       "      <td>30.75</td>\n",
       "      <td>1</td>\n",
       "    </tr>\n",
       "    <tr>\n",
       "      <th>2943</th>\n",
       "      <td>37.81</td>\n",
       "      <td>light</td>\n",
       "      <td>1</td>\n",
       "      <td>100.0</td>\n",
       "      <td>95.746781</td>\n",
       "      <td>9.583806</td>\n",
       "      <td>0.435808</td>\n",
       "      <td>67.185070</td>\n",
       "      <td>9.859305</td>\n",
       "      <td>0.058315</td>\n",
       "      <td>91.797093</td>\n",
       "      <td>9.946165</td>\n",
       "      <td>0.024230</td>\n",
       "      <td>30.375</td>\n",
       "      <td>32.1875</td>\n",
       "      <td>30.75</td>\n",
       "      <td>1</td>\n",
       "    </tr>\n",
       "    <tr>\n",
       "      <th>2954</th>\n",
       "      <td>37.92</td>\n",
       "      <td>light</td>\n",
       "      <td>1</td>\n",
       "      <td>100.0</td>\n",
       "      <td>95.373006</td>\n",
       "      <td>9.639631</td>\n",
       "      <td>0.081883</td>\n",
       "      <td>66.711313</td>\n",
       "      <td>9.798303</td>\n",
       "      <td>0.072202</td>\n",
       "      <td>92.273977</td>\n",
       "      <td>9.911287</td>\n",
       "      <td>0.022479</td>\n",
       "      <td>30.375</td>\n",
       "      <td>32.1875</td>\n",
       "      <td>30.75</td>\n",
       "      <td>1</td>\n",
       "    </tr>\n",
       "    <tr>\n",
       "      <th>2965</th>\n",
       "      <td>38.03</td>\n",
       "      <td>light</td>\n",
       "      <td>1</td>\n",
       "      <td>100.0</td>\n",
       "      <td>95.360173</td>\n",
       "      <td>10.045489</td>\n",
       "      <td>0.374651</td>\n",
       "      <td>66.350301</td>\n",
       "      <td>9.929907</td>\n",
       "      <td>0.071764</td>\n",
       "      <td>92.732261</td>\n",
       "      <td>9.760667</td>\n",
       "      <td>0.016725</td>\n",
       "      <td>30.375</td>\n",
       "      <td>32.1875</td>\n",
       "      <td>30.75</td>\n",
       "      <td>1</td>\n",
       "    </tr>\n",
       "    <tr>\n",
       "      <th>2976</th>\n",
       "      <td>38.14</td>\n",
       "      <td>light</td>\n",
       "      <td>1</td>\n",
       "      <td>101.0</td>\n",
       "      <td>95.350742</td>\n",
       "      <td>9.963993</td>\n",
       "      <td>0.378423</td>\n",
       "      <td>67.355127</td>\n",
       "      <td>9.804206</td>\n",
       "      <td>0.059240</td>\n",
       "      <td>92.425175</td>\n",
       "      <td>9.888575</td>\n",
       "      <td>0.067042</td>\n",
       "      <td>30.375</td>\n",
       "      <td>32.1875</td>\n",
       "      <td>30.75</td>\n",
       "      <td>1</td>\n",
       "    </tr>\n",
       "    <tr>\n",
       "      <th>...</th>\n",
       "      <td>...</td>\n",
       "      <td>...</td>\n",
       "      <td>...</td>\n",
       "      <td>...</td>\n",
       "      <td>...</td>\n",
       "      <td>...</td>\n",
       "      <td>...</td>\n",
       "      <td>...</td>\n",
       "      <td>...</td>\n",
       "      <td>...</td>\n",
       "      <td>...</td>\n",
       "      <td>...</td>\n",
       "      <td>...</td>\n",
       "      <td>...</td>\n",
       "      <td>...</td>\n",
       "      <td>...</td>\n",
       "      <td>...</td>\n",
       "    </tr>\n",
       "    <tr>\n",
       "      <th>2871975</th>\n",
       "      <td>94.66</td>\n",
       "      <td>vigorous</td>\n",
       "      <td>24</td>\n",
       "      <td>162.0</td>\n",
       "      <td>28.812324</td>\n",
       "      <td>10.876780</td>\n",
       "      <td>0.157022</td>\n",
       "      <td>47.894613</td>\n",
       "      <td>9.884364</td>\n",
       "      <td>0.100384</td>\n",
       "      <td>46.055915</td>\n",
       "      <td>10.063054</td>\n",
       "      <td>0.037724</td>\n",
       "      <td>25.125</td>\n",
       "      <td>32.3750</td>\n",
       "      <td>31.50</td>\n",
       "      <td>9</td>\n",
       "    </tr>\n",
       "    <tr>\n",
       "      <th>2871986</th>\n",
       "      <td>94.77</td>\n",
       "      <td>vigorous</td>\n",
       "      <td>24</td>\n",
       "      <td>162.0</td>\n",
       "      <td>26.870687</td>\n",
       "      <td>10.341491</td>\n",
       "      <td>0.458881</td>\n",
       "      <td>47.629733</td>\n",
       "      <td>9.895226</td>\n",
       "      <td>0.162803</td>\n",
       "      <td>45.534863</td>\n",
       "      <td>9.792079</td>\n",
       "      <td>0.010443</td>\n",
       "      <td>25.125</td>\n",
       "      <td>32.3750</td>\n",
       "      <td>31.50</td>\n",
       "      <td>9</td>\n",
       "    </tr>\n",
       "    <tr>\n",
       "      <th>2871997</th>\n",
       "      <td>94.88</td>\n",
       "      <td>vigorous</td>\n",
       "      <td>24</td>\n",
       "      <td>162.0</td>\n",
       "      <td>26.981285</td>\n",
       "      <td>10.021582</td>\n",
       "      <td>0.415535</td>\n",
       "      <td>48.081339</td>\n",
       "      <td>9.915689</td>\n",
       "      <td>0.310067</td>\n",
       "      <td>45.661446</td>\n",
       "      <td>9.809462</td>\n",
       "      <td>0.051387</td>\n",
       "      <td>25.125</td>\n",
       "      <td>32.3750</td>\n",
       "      <td>31.50</td>\n",
       "      <td>9</td>\n",
       "    </tr>\n",
       "    <tr>\n",
       "      <th>2872007</th>\n",
       "      <td>94.98</td>\n",
       "      <td>vigorous</td>\n",
       "      <td>24</td>\n",
       "      <td>162.0</td>\n",
       "      <td>26.132942</td>\n",
       "      <td>9.932805</td>\n",
       "      <td>0.388336</td>\n",
       "      <td>47.547335</td>\n",
       "      <td>10.178812</td>\n",
       "      <td>0.322284</td>\n",
       "      <td>45.919491</td>\n",
       "      <td>9.947890</td>\n",
       "      <td>0.042514</td>\n",
       "      <td>25.125</td>\n",
       "      <td>32.3750</td>\n",
       "      <td>31.50</td>\n",
       "      <td>9</td>\n",
       "    </tr>\n",
       "    <tr>\n",
       "      <th>2872018</th>\n",
       "      <td>95.09</td>\n",
       "      <td>vigorous</td>\n",
       "      <td>24</td>\n",
       "      <td>162.0</td>\n",
       "      <td>26.239124</td>\n",
       "      <td>9.396202</td>\n",
       "      <td>0.375698</td>\n",
       "      <td>47.415254</td>\n",
       "      <td>9.710290</td>\n",
       "      <td>0.154072</td>\n",
       "      <td>45.917820</td>\n",
       "      <td>9.967132</td>\n",
       "      <td>0.046552</td>\n",
       "      <td>25.125</td>\n",
       "      <td>32.3750</td>\n",
       "      <td>31.50</td>\n",
       "      <td>9</td>\n",
       "    </tr>\n",
       "  </tbody>\n",
       "</table>\n",
       "<p>175498 rows × 17 columns</p>\n",
       "</div>"
      ],
      "text/plain": [
       "         timestamp ActivityLevel  activityID  heartrate    handMag    handAcc  \\\n",
       "2932         37.70         light           1      100.0  95.450583   9.751993   \n",
       "2943         37.81         light           1      100.0  95.746781   9.583806   \n",
       "2954         37.92         light           1      100.0  95.373006   9.639631   \n",
       "2965         38.03         light           1      100.0  95.360173  10.045489   \n",
       "2976         38.14         light           1      101.0  95.350742   9.963993   \n",
       "...            ...           ...         ...        ...        ...        ...   \n",
       "2871975      94.66      vigorous          24      162.0  28.812324  10.876780   \n",
       "2871986      94.77      vigorous          24      162.0  26.870687  10.341491   \n",
       "2871997      94.88      vigorous          24      162.0  26.981285  10.021582   \n",
       "2872007      94.98      vigorous          24      162.0  26.132942   9.932805   \n",
       "2872018      95.09      vigorous          24      162.0  26.239124   9.396202   \n",
       "\n",
       "         handGyro   chestMag   chestAcc  chestGyro   ankleMag   ankleAcc  \\\n",
       "2932     0.072467  66.439341   9.875840   0.041521  91.396062   9.956473   \n",
       "2943     0.435808  67.185070   9.859305   0.058315  91.797093   9.946165   \n",
       "2954     0.081883  66.711313   9.798303   0.072202  92.273977   9.911287   \n",
       "2965     0.374651  66.350301   9.929907   0.071764  92.732261   9.760667   \n",
       "2976     0.378423  67.355127   9.804206   0.059240  92.425175   9.888575   \n",
       "...           ...        ...        ...        ...        ...        ...   \n",
       "2871975  0.157022  47.894613   9.884364   0.100384  46.055915  10.063054   \n",
       "2871986  0.458881  47.629733   9.895226   0.162803  45.534863   9.792079   \n",
       "2871997  0.415535  48.081339   9.915689   0.310067  45.661446   9.809462   \n",
       "2872007  0.388336  47.547335  10.178812   0.322284  45.919491   9.947890   \n",
       "2872018  0.375698  47.415254   9.710290   0.154072  45.917820   9.967132   \n",
       "\n",
       "         ankleGyro  handTemperature  chestTemperature  ankleTemperature  \\\n",
       "2932      0.049304           30.375           32.1875             30.75   \n",
       "2943      0.024230           30.375           32.1875             30.75   \n",
       "2954      0.022479           30.375           32.1875             30.75   \n",
       "2965      0.016725           30.375           32.1875             30.75   \n",
       "2976      0.067042           30.375           32.1875             30.75   \n",
       "...            ...              ...               ...               ...   \n",
       "2871975   0.037724           25.125           32.3750             31.50   \n",
       "2871986   0.010443           25.125           32.3750             31.50   \n",
       "2871997   0.051387           25.125           32.3750             31.50   \n",
       "2872007   0.042514           25.125           32.3750             31.50   \n",
       "2872018   0.046552           25.125           32.3750             31.50   \n",
       "\n",
       "         subject_id  \n",
       "2932              1  \n",
       "2943              1  \n",
       "2954              1  \n",
       "2965              1  \n",
       "2976              1  \n",
       "...             ...  \n",
       "2871975           9  \n",
       "2871986           9  \n",
       "2871997           9  \n",
       "2872007           9  \n",
       "2872018           9  \n",
       "\n",
       "[175498 rows x 17 columns]"
      ]
     },
     "execution_count": 11,
     "metadata": {},
     "output_type": "execute_result"
    }
   ],
   "source": [
    "dataCollection"
   ]
  },
  {
   "cell_type": "markdown",
   "id": "d2d96c95",
   "metadata": {},
   "source": [
    "After the cleaning up of data we will split the dataframe into two, traning set and testing set. This is mainly for the modelling which we will do soon. we call the function train_test_split where we will pass the dataframe, the ratio at which it need to be divided and the random state. It will return two sets which will be stored in training and testing respectively. As we can see we have a training set of 122848 samples and a testing set of 52650 samples."
   ]
  },
  {
   "cell_type": "code",
   "execution_count": 12,
   "id": "469b085f",
   "metadata": {},
   "outputs": [
    {
     "name": "stdout",
     "output_type": "stream",
     "text": [
      "No. of training examples: 122848\n",
      "No. of testing examples: 52650\n"
     ]
    }
   ],
   "source": [
    "training_data, testing_data = train_test_split(dataCollection, test_size=0.3, random_state=25)\n",
    "\n",
    "print(f\"No. of training examples: {training_data.shape[0]}\")\n",
    "print(f\"No. of testing examples: {testing_data.shape[0]}\")"
   ]
  },
  {
   "cell_type": "code",
   "execution_count": 13,
   "id": "45f1a249",
   "metadata": {},
   "outputs": [
    {
     "data": {
      "text/html": [
       "<div>\n",
       "<style scoped>\n",
       "    .dataframe tbody tr th:only-of-type {\n",
       "        vertical-align: middle;\n",
       "    }\n",
       "\n",
       "    .dataframe tbody tr th {\n",
       "        vertical-align: top;\n",
       "    }\n",
       "\n",
       "    .dataframe thead th {\n",
       "        text-align: right;\n",
       "    }\n",
       "</style>\n",
       "<table border=\"1\" class=\"dataframe\">\n",
       "  <thead>\n",
       "    <tr style=\"text-align: right;\">\n",
       "      <th></th>\n",
       "      <th>timestamp</th>\n",
       "      <th>ActivityLevel</th>\n",
       "      <th>activityID</th>\n",
       "      <th>heartrate</th>\n",
       "      <th>handMag</th>\n",
       "      <th>handAcc</th>\n",
       "      <th>handGyro</th>\n",
       "      <th>chestMag</th>\n",
       "      <th>chestAcc</th>\n",
       "      <th>chestGyro</th>\n",
       "      <th>ankleMag</th>\n",
       "      <th>ankleAcc</th>\n",
       "      <th>ankleGyro</th>\n",
       "      <th>handTemperature</th>\n",
       "      <th>chestTemperature</th>\n",
       "      <th>ankleTemperature</th>\n",
       "      <th>subject_id</th>\n",
       "    </tr>\n",
       "  </thead>\n",
       "  <tbody>\n",
       "    <tr>\n",
       "      <th>2625644</th>\n",
       "      <td>1702.08</td>\n",
       "      <td>vigorous</td>\n",
       "      <td>12</td>\n",
       "      <td>139.0</td>\n",
       "      <td>53.854060</td>\n",
       "      <td>16.163897</td>\n",
       "      <td>0.931301</td>\n",
       "      <td>49.590104</td>\n",
       "      <td>13.070887</td>\n",
       "      <td>1.081404</td>\n",
       "      <td>43.563839</td>\n",
       "      <td>10.373201</td>\n",
       "      <td>1.537907</td>\n",
       "      <td>34.2500</td>\n",
       "      <td>38.0625</td>\n",
       "      <td>34.1875</td>\n",
       "      <td>8</td>\n",
       "    </tr>\n",
       "    <tr>\n",
       "      <th>1098143</th>\n",
       "      <td>224.64</td>\n",
       "      <td>light</td>\n",
       "      <td>1</td>\n",
       "      <td>73.0</td>\n",
       "      <td>19.638085</td>\n",
       "      <td>9.918705</td>\n",
       "      <td>0.018474</td>\n",
       "      <td>49.338747</td>\n",
       "      <td>9.330957</td>\n",
       "      <td>0.058911</td>\n",
       "      <td>30.334974</td>\n",
       "      <td>9.912648</td>\n",
       "      <td>0.132004</td>\n",
       "      <td>32.8125</td>\n",
       "      <td>34.8125</td>\n",
       "      <td>33.5000</td>\n",
       "      <td>4</td>\n",
       "    </tr>\n",
       "    <tr>\n",
       "      <th>1870506</th>\n",
       "      <td>904.86</td>\n",
       "      <td>light</td>\n",
       "      <td>17</td>\n",
       "      <td>84.0</td>\n",
       "      <td>27.798411</td>\n",
       "      <td>9.314533</td>\n",
       "      <td>0.463890</td>\n",
       "      <td>39.577322</td>\n",
       "      <td>9.914426</td>\n",
       "      <td>0.140350</td>\n",
       "      <td>58.405184</td>\n",
       "      <td>9.987989</td>\n",
       "      <td>0.048180</td>\n",
       "      <td>33.8125</td>\n",
       "      <td>36.1875</td>\n",
       "      <td>34.9375</td>\n",
       "      <td>6</td>\n",
       "    </tr>\n",
       "    <tr>\n",
       "      <th>1097300</th>\n",
       "      <td>216.21</td>\n",
       "      <td>light</td>\n",
       "      <td>1</td>\n",
       "      <td>72.0</td>\n",
       "      <td>19.790603</td>\n",
       "      <td>9.753240</td>\n",
       "      <td>0.023966</td>\n",
       "      <td>50.097270</td>\n",
       "      <td>9.627314</td>\n",
       "      <td>0.026787</td>\n",
       "      <td>30.046044</td>\n",
       "      <td>9.877875</td>\n",
       "      <td>0.031313</td>\n",
       "      <td>32.8125</td>\n",
       "      <td>34.8125</td>\n",
       "      <td>33.5000</td>\n",
       "      <td>4</td>\n",
       "    </tr>\n",
       "    <tr>\n",
       "      <th>1059712</th>\n",
       "      <td>2368.59</td>\n",
       "      <td>moderate</td>\n",
       "      <td>4</td>\n",
       "      <td>119.0</td>\n",
       "      <td>48.852229</td>\n",
       "      <td>7.863950</td>\n",
       "      <td>1.997366</td>\n",
       "      <td>35.950529</td>\n",
       "      <td>13.262695</td>\n",
       "      <td>0.554969</td>\n",
       "      <td>44.687373</td>\n",
       "      <td>19.128132</td>\n",
       "      <td>3.563013</td>\n",
       "      <td>29.4375</td>\n",
       "      <td>36.8750</td>\n",
       "      <td>34.5000</td>\n",
       "      <td>3</td>\n",
       "    </tr>\n",
       "    <tr>\n",
       "      <th>...</th>\n",
       "      <td>...</td>\n",
       "      <td>...</td>\n",
       "      <td>...</td>\n",
       "      <td>...</td>\n",
       "      <td>...</td>\n",
       "      <td>...</td>\n",
       "      <td>...</td>\n",
       "      <td>...</td>\n",
       "      <td>...</td>\n",
       "      <td>...</td>\n",
       "      <td>...</td>\n",
       "      <td>...</td>\n",
       "      <td>...</td>\n",
       "      <td>...</td>\n",
       "      <td>...</td>\n",
       "      <td>...</td>\n",
       "      <td>...</td>\n",
       "    </tr>\n",
       "    <tr>\n",
       "      <th>2151678</th>\n",
       "      <td>98.44</td>\n",
       "      <td>light</td>\n",
       "      <td>1</td>\n",
       "      <td>83.0</td>\n",
       "      <td>25.068682</td>\n",
       "      <td>9.776432</td>\n",
       "      <td>0.032491</td>\n",
       "      <td>48.153041</td>\n",
       "      <td>9.658415</td>\n",
       "      <td>0.033238</td>\n",
       "      <td>31.660566</td>\n",
       "      <td>10.213012</td>\n",
       "      <td>0.046559</td>\n",
       "      <td>30.2500</td>\n",
       "      <td>32.6875</td>\n",
       "      <td>30.1250</td>\n",
       "      <td>7</td>\n",
       "    </tr>\n",
       "    <tr>\n",
       "      <th>1524954</th>\n",
       "      <td>1196.98</td>\n",
       "      <td>light</td>\n",
       "      <td>17</td>\n",
       "      <td>88.0</td>\n",
       "      <td>4.065840</td>\n",
       "      <td>9.233299</td>\n",
       "      <td>1.458080</td>\n",
       "      <td>40.232291</td>\n",
       "      <td>9.796507</td>\n",
       "      <td>0.794053</td>\n",
       "      <td>60.343038</td>\n",
       "      <td>10.061185</td>\n",
       "      <td>0.191315</td>\n",
       "      <td>35.4375</td>\n",
       "      <td>37.5625</td>\n",
       "      <td>34.5000</td>\n",
       "      <td>5</td>\n",
       "    </tr>\n",
       "    <tr>\n",
       "      <th>85156</th>\n",
       "      <td>859.94</td>\n",
       "      <td>light</td>\n",
       "      <td>17</td>\n",
       "      <td>104.0</td>\n",
       "      <td>59.312579</td>\n",
       "      <td>9.262748</td>\n",
       "      <td>0.997393</td>\n",
       "      <td>57.924334</td>\n",
       "      <td>10.002432</td>\n",
       "      <td>0.676013</td>\n",
       "      <td>72.430504</td>\n",
       "      <td>9.786085</td>\n",
       "      <td>0.143261</td>\n",
       "      <td>33.2500</td>\n",
       "      <td>35.0000</td>\n",
       "      <td>33.7500</td>\n",
       "      <td>1</td>\n",
       "    </tr>\n",
       "    <tr>\n",
       "      <th>1504359</th>\n",
       "      <td>991.03</td>\n",
       "      <td>light</td>\n",
       "      <td>17</td>\n",
       "      <td>88.0</td>\n",
       "      <td>46.655418</td>\n",
       "      <td>13.875824</td>\n",
       "      <td>2.601184</td>\n",
       "      <td>38.412373</td>\n",
       "      <td>9.615096</td>\n",
       "      <td>0.698069</td>\n",
       "      <td>55.510309</td>\n",
       "      <td>8.623337</td>\n",
       "      <td>0.565017</td>\n",
       "      <td>35.3125</td>\n",
       "      <td>37.3125</td>\n",
       "      <td>34.4375</td>\n",
       "      <td>5</td>\n",
       "    </tr>\n",
       "    <tr>\n",
       "      <th>474927</th>\n",
       "      <td>990.74</td>\n",
       "      <td>light</td>\n",
       "      <td>17</td>\n",
       "      <td>88.0</td>\n",
       "      <td>51.102757</td>\n",
       "      <td>9.585142</td>\n",
       "      <td>1.675696</td>\n",
       "      <td>34.466511</td>\n",
       "      <td>9.707564</td>\n",
       "      <td>0.193631</td>\n",
       "      <td>55.463277</td>\n",
       "      <td>9.902596</td>\n",
       "      <td>0.082582</td>\n",
       "      <td>34.3125</td>\n",
       "      <td>37.6250</td>\n",
       "      <td>35.0625</td>\n",
       "      <td>2</td>\n",
       "    </tr>\n",
       "  </tbody>\n",
       "</table>\n",
       "<p>122848 rows × 17 columns</p>\n",
       "</div>"
      ],
      "text/plain": [
       "         timestamp ActivityLevel  activityID  heartrate    handMag    handAcc  \\\n",
       "2625644    1702.08      vigorous          12      139.0  53.854060  16.163897   \n",
       "1098143     224.64         light           1       73.0  19.638085   9.918705   \n",
       "1870506     904.86         light          17       84.0  27.798411   9.314533   \n",
       "1097300     216.21         light           1       72.0  19.790603   9.753240   \n",
       "1059712    2368.59      moderate           4      119.0  48.852229   7.863950   \n",
       "...            ...           ...         ...        ...        ...        ...   \n",
       "2151678      98.44         light           1       83.0  25.068682   9.776432   \n",
       "1524954    1196.98         light          17       88.0   4.065840   9.233299   \n",
       "85156       859.94         light          17      104.0  59.312579   9.262748   \n",
       "1504359     991.03         light          17       88.0  46.655418  13.875824   \n",
       "474927      990.74         light          17       88.0  51.102757   9.585142   \n",
       "\n",
       "         handGyro   chestMag   chestAcc  chestGyro   ankleMag   ankleAcc  \\\n",
       "2625644  0.931301  49.590104  13.070887   1.081404  43.563839  10.373201   \n",
       "1098143  0.018474  49.338747   9.330957   0.058911  30.334974   9.912648   \n",
       "1870506  0.463890  39.577322   9.914426   0.140350  58.405184   9.987989   \n",
       "1097300  0.023966  50.097270   9.627314   0.026787  30.046044   9.877875   \n",
       "1059712  1.997366  35.950529  13.262695   0.554969  44.687373  19.128132   \n",
       "...           ...        ...        ...        ...        ...        ...   \n",
       "2151678  0.032491  48.153041   9.658415   0.033238  31.660566  10.213012   \n",
       "1524954  1.458080  40.232291   9.796507   0.794053  60.343038  10.061185   \n",
       "85156    0.997393  57.924334  10.002432   0.676013  72.430504   9.786085   \n",
       "1504359  2.601184  38.412373   9.615096   0.698069  55.510309   8.623337   \n",
       "474927   1.675696  34.466511   9.707564   0.193631  55.463277   9.902596   \n",
       "\n",
       "         ankleGyro  handTemperature  chestTemperature  ankleTemperature  \\\n",
       "2625644   1.537907          34.2500           38.0625           34.1875   \n",
       "1098143   0.132004          32.8125           34.8125           33.5000   \n",
       "1870506   0.048180          33.8125           36.1875           34.9375   \n",
       "1097300   0.031313          32.8125           34.8125           33.5000   \n",
       "1059712   3.563013          29.4375           36.8750           34.5000   \n",
       "...            ...              ...               ...               ...   \n",
       "2151678   0.046559          30.2500           32.6875           30.1250   \n",
       "1524954   0.191315          35.4375           37.5625           34.5000   \n",
       "85156     0.143261          33.2500           35.0000           33.7500   \n",
       "1504359   0.565017          35.3125           37.3125           34.4375   \n",
       "474927    0.082582          34.3125           37.6250           35.0625   \n",
       "\n",
       "         subject_id  \n",
       "2625644           8  \n",
       "1098143           4  \n",
       "1870506           6  \n",
       "1097300           4  \n",
       "1059712           3  \n",
       "...             ...  \n",
       "2151678           7  \n",
       "1524954           5  \n",
       "85156             1  \n",
       "1504359           5  \n",
       "474927            2  \n",
       "\n",
       "[122848 rows x 17 columns]"
      ]
     },
     "execution_count": 13,
     "metadata": {},
     "output_type": "execute_result"
    }
   ],
   "source": [
    "training_data"
   ]
  },
  {
   "cell_type": "markdown",
   "id": "5d28de0d",
   "metadata": {},
   "source": [
    "# EDA"
   ]
  },
  {
   "cell_type": "markdown",
   "id": "58d6a711",
   "metadata": {},
   "source": [
    "With the data partitioned into development and testing, exploratory data analysis can now be performed on our development dataset."
   ]
  },
  {
   "cell_type": "markdown",
   "id": "45d4cbce",
   "metadata": {},
   "source": [
    "The first one is a bar graph where we are plotting the activity to their sample size in the dataframe. As we can see most of them are evenly distributed. Most of it are evenly balanced. only rope jumping is a it less which is a vigorous activity."
   ]
  },
  {
   "cell_type": "code",
   "execution_count": 14,
   "id": "be38919d",
   "metadata": {},
   "outputs": [
    {
     "data": {
      "image/png": "[encoded data removed]",
      "text/plain": [
       "<Figure size 864x432 with 1 Axes>"
      ]
     },
     "metadata": {
      "needs_background": "light"
     },
     "output_type": "display_data"
    }
   ],
   "source": [
    "training_data['activityID'].value_counts().plot(kind = \"bar\",figsize = (12,6))\n",
    "plt.show()"
   ]
  },
  {
   "cell_type": "code",
   "execution_count": 15,
   "id": "ae223bcc",
   "metadata": {},
   "outputs": [
    {
     "name": "stderr",
     "output_type": "stream",
     "text": [
      "<ipython-input-4-fafbde2c1dde>:28: UserWarning: FixedFormatter should only be used together with FixedLocator\n",
      "  a = ax.set_xticklabels(pd[column_b])\n",
      "No handles with labels found to put in legend.\n"
     ]
    },
    {
     "data": {
      "image/png": "[encoded data removed]",
      "text/plain": [
       "<Figure size 2880x1440 with 1 Axes>"
      ]
     },
     "metadata": {
      "needs_background": "light"
     },
     "output_type": "display_data"
    }
   ],
   "source": [
    "map_ac = load_activity_map()\n",
    "sampels = training_data.groupby(['activityID']).count().reset_index()\n",
    "sampels_to_subject = pd.DataFrame()\n",
    "sampels_to_subject['activity'] = [map_ac[x] for x in sampels['activityID']]\n",
    "sampels_to_subject['sampels'] = sampels['timestamp']\n",
    "sampels_to_subject = sampels_to_subject.sort_values(by=['sampels'])\n",
    "pd_fast_plot(sampels_to_subject,'sampels','activity','Number Of Samepls By Activity',figsize=(40,20))"
   ]
  },
  {
   "cell_type": "markdown",
   "id": "892778fb",
   "metadata": {},
   "source": [
    "Now we are plotting the same thing but as per the activity level.  As we can see below light and moderate have very large sample size compared to vigorous which is only around 11000, while the other two are freater than 50000.\n",
    "As defined by their MET will be looked for. The activities in the protocol can be classified as:\n",
    "\n",
    "Light Effort (<3.0 METs): lying, sitting, standing and ironing.\n",
    "\n",
    "Moderate Effort (3.0 - 6.0 METs): vacuum cleaning, descending stairs, walking, Nordic walking and cycling\n",
    "\n",
    "Vigorous Effort (> 6.0 MET): ascending stairs, running and rope jumping"
   ]
  },
  {
   "cell_type": "code",
   "execution_count": 16,
   "id": "aa996b8e",
   "metadata": {
    "scrolled": true
   },
   "outputs": [
    {
     "name": "stdout",
     "output_type": "stream",
     "text": [
      "Dev Dataset by Activity Intensity Level\n"
     ]
    },
    {
     "data": {
      "text/plain": [
       "ActivityLevel\n",
       "light       51390\n",
       "moderate    54787\n",
       "vigorous    16671\n",
       "Name: Activity Level Counts, dtype: int64"
      ]
     },
     "metadata": {},
     "output_type": "display_data"
    },
    {
     "data": {
      "image/png": "[encoded data removed]",
      "text/plain": [
       "<Figure size 576x288 with 1 Axes>"
      ]
     },
     "metadata": {
      "needs_background": "light"
     },
     "output_type": "display_data"
    }
   ],
   "source": [
    "s = training_data.groupby('ActivityLevel').count()['activityID']\n",
    "s = s.rename(\"Activity Level Counts\")\n",
    "print(('Dev Dataset by Activity Intensity Level'))\n",
    "display(s)\n",
    "ax = s.plot(kind='bar', figsize=(8,4))\n",
    "_ = ax.set_ylabel('windows')\n",
    "_ = ax.set_xlabel('activity level')\n",
    "_ = ax.set_title('Test Dataset by Activity Intensity Level') "
   ]
  },
  {
   "cell_type": "markdown",
   "id": "8962e2f9",
   "metadata": {},
   "source": [
    "For the next one we will plot the subject IDs with their average heart rate. For the same we will be using a bar graph. \n",
    "A data frame result id is created where we take the data from training_ data and it is grouped by subject id.\n",
    "From the graph we can see that the subject 9 has mch higher hear rate than any other subject. Its above 140 while the rest of them are between 90 and 120. We are going to focus on heart rate as it is our most precice meter of check for tracking subjects during activities as implied by the various indications on the readme file of the dataset. "
   ]
  },
  {
   "cell_type": "code",
   "execution_count": 17,
   "id": "74a92a03",
   "metadata": {},
   "outputs": [
    {
     "name": "stderr",
     "output_type": "stream",
     "text": [
      "<ipython-input-4-fafbde2c1dde>:28: UserWarning: FixedFormatter should only be used together with FixedLocator\n",
      "  a = ax.set_xticklabels(pd[column_b])\n",
      "No handles with labels found to put in legend.\n"
     ]
    },
    {
     "data": {
      "image/png": "[encoded data removed]",
      "text/plain": [
       "<Figure size 720x432 with 1 Axes>"
      ]
     },
     "metadata": {
      "needs_background": "light"
     },
     "output_type": "display_data"
    }
   ],
   "source": [
    "result_id = training_data.groupby(['subject_id']).mean().reset_index()\n",
    "\n",
    "\n",
    "sampels_heart_rate = pd.DataFrame()\n",
    "sampels_heart_rate['id'] = result_id['subject_id']\n",
    "sampels_heart_rate['heartrate'] = result_id['heartrate']\n",
    "sampels_heart_rate = sampels_heart_rate.sort_values(by=['heartrate'])\n",
    "pd_fast_plot(sampels_heart_rate,'heartrate','id','Avg heart Rate by Subject')"
   ]
  },
  {
   "cell_type": "markdown",
   "id": "d8d93517",
   "metadata": {},
   "source": [
    "The next graph is also a bar graph with the activity levels against the average heart rates. For this we create  a new data frame first,ha in which we are grouping by activity level and taking the mean of hear rate. Then we are using this ha data frame to plot the graph. From the graph we can infer that the heart rate of light activities is less compared to moderate and the heart rate of moderate activities is less compared to vigorous. "
   ]
  },
  {
   "cell_type": "code",
   "execution_count": 18,
   "id": "df71ff3b",
   "metadata": {},
   "outputs": [
    {
     "name": "stdout",
     "output_type": "stream",
     "text": [
      "Activity heart rate\n"
     ]
    },
    {
     "data": {
      "text/plain": [
       "ActivityLevel\n",
       "light        83.888266\n",
       "moderate    117.606586\n",
       "vigorous    145.141623\n",
       "Name: heartrate, dtype: float64"
      ]
     },
     "metadata": {},
     "output_type": "display_data"
    },
    {
     "data": {
      "image/png": "[encoded data removed]",
      "text/plain": [
       "<Figure size 576x288 with 1 Axes>"
      ]
     },
     "metadata": {
      "needs_background": "light"
     },
     "output_type": "display_data"
    }
   ],
   "source": [
    "ha = training_data.groupby('ActivityLevel').mean()['heartrate']\n",
    "\n",
    "\n",
    "print(('Activity heart rate'))\n",
    "display(ha)\n",
    "ax = ha.plot(kind='bar', figsize=(8,4))\n",
    "_ = ax.set_ylabel('Heart Rate')\n",
    "_ = ax.set_xlabel('activity level')\n",
    "_ = ax.set_title('Heartrate of Activity Levels') "
   ]
  },
  {
   "cell_type": "markdown",
   "id": "3002f28a",
   "metadata": {},
   "source": [
    "For the next graph we are plotting the average temperature by subject. For this we are taking the remperature of hand, chest and ankle. First we create a dataframe sampls_tempereture. Then we put the values of hand temperature, chest temperature and ankle temperature into it from the data frame result_id. One we do that we will pass that to the plot function and get the graph. From the graph we can see that the chest temperateis high for all the subjects followed by ankle and hand. But when it comes to 9 everything falls so low even though the average heartbeat was higher or 9. THIs must be an issue in the data."
   ]
  },
  {
   "cell_type": "code",
   "execution_count": 19,
   "id": "d2dc6994",
   "metadata": {},
   "outputs": [
    {
     "name": "stderr",
     "output_type": "stream",
     "text": [
      "<ipython-input-19-e946056f7bd5>:7: UserWarning: FixedFormatter should only be used together with FixedLocator\n",
      "  a = ax.set_xticklabels(result_id['subject_id'])\n"
     ]
    },
    {
     "data": {
      "image/png": "[encoded data removed]",
      "text/plain": [
       "<Figure size 1440x432 with 1 Axes>"
      ]
     },
     "metadata": {
      "needs_background": "light"
     },
     "output_type": "display_data"
    }
   ],
   "source": [
    "samepls_tempreture = pd.DataFrame()\n",
    "samepls_tempreture['hand'] = result_id['handTemperature']\n",
    "samepls_tempreture['chest'] = result_id['chestTemperature']\n",
    "samepls_tempreture['ankle'] = result_id['ankleTemperature']\n",
    "\n",
    "ax = samepls_tempreture.plot(kind='line', figsize=(20,6), title='Avg Tempatures by Subjects')\n",
    "a = ax.set_xticklabels(result_id['subject_id'])\n",
    "b = ax.legend(fontsize = 20)\n",
    "c = ax.set_xticks(np.arange(len(samepls_tempreture)))"
   ]
  },
  {
   "cell_type": "markdown",
   "id": "824295d9",
   "metadata": {},
   "source": [
    "A new data fram eta is created where we are grouping it by activity level. Then we are creating dataframe sample temperature like we did above to take the temperature for hand chest and ankle. Once thats done we will use it to plot the activity level against the temperature. And from the graph we can see that the chest temperature is still the highest followed by ankle and hand, but then again the temperature for vigorous activity level is still the loest which shouldnt be the case.\n",
    "\\"
   ]
  },
  {
   "cell_type": "code",
   "execution_count": 20,
   "id": "67438b99",
   "metadata": {},
   "outputs": [],
   "source": [
    "ta = training_data.groupby('ActivityLevel').mean()\n"
   ]
  },
  {
   "cell_type": "code",
   "execution_count": 21,
   "id": "fc22cd81",
   "metadata": {
    "scrolled": true
   },
   "outputs": [
    {
     "data": {
      "image/png": "[encoded data removed]",
      "text/plain": [
       "<Figure size 1440x432 with 1 Axes>"
      ]
     },
     "metadata": {
      "needs_background": "light"
     },
     "output_type": "display_data"
    }
   ],
   "source": [
    "samepls_tempreture = pd.DataFrame()\n",
    "samepls_tempreture['hand'] = ta['handTemperature']\n",
    "samepls_tempreture['chest'] = ta['chestTemperature']\n",
    "samepls_tempreture['ankle'] = ta['ankleTemperature']\n",
    "\n",
    "ax = samepls_tempreture.plot(kind='line', figsize=(20,6), title='Avg Tempatures by ActivityLevel')\n",
    "#a = ax.set_xticklabels(ta['ActivityLevel'])\n",
    "b = ax.legend(fontsize = 20)\n",
    "c = ax.set_xticks(np.arange(len(samepls_tempreture)))"
   ]
  },
  {
   "cell_type": "markdown",
   "id": "33ac3769",
   "metadata": {},
   "source": [
    "In the next graph we are plotting the acceleration of chest, hand and ankle of each sujects. For this we will use the chestacc , handacc and ankleacc calculated in the beginning using the three points in the 3d space. while creating the dataframe result_id we have taken the mean of those and have grouped by subject ids, we us that for this. Like above we create a new data frame sampls where we put chestacc hand acc and ankle acc. THen we pass it for plotting. From the linegraph plotted we can see that the ankle has the most acceleration than any other body part, which is then followed by the hand and then the chest. The acceleration is almost the same for all except 9 where it goes really high."
   ]
  },
  {
   "cell_type": "code",
   "execution_count": 22,
   "id": "2b16e6a7",
   "metadata": {},
   "outputs": [
    {
     "name": "stderr",
     "output_type": "stream",
     "text": [
      "<ipython-input-22-fc9e94688e69>:6: UserWarning: FixedFormatter should only be used together with FixedLocator\n",
      "  a = ax.set_xticklabels(result_id['subject_id'])\n"
     ]
    },
    {
     "data": {
      "image/png": "[encoded data removed]",
      "text/plain": [
       "<Figure size 1440x432 with 1 Axes>"
      ]
     },
     "metadata": {
      "needs_background": "light"
     },
     "output_type": "display_data"
    }
   ],
   "source": [
    "samepls = pd.DataFrame()\n",
    "samepls['chest'] = result_id['chestAcc']\n",
    "samepls['hand'] = result_id['handAcc']\n",
    "samepls['ankle'] = result_id['ankleAcc']\n",
    "ax = samepls.plot(kind='line', figsize=(20,6), title='Avg Acceleration Value by Subjects')\n",
    "a = ax.set_xticklabels(result_id['subject_id'])\n",
    "b = ax.legend(fontsize = 20)\n",
    "c = ax.set_xticks(np.arange(len(samepls)))"
   ]
  },
  {
   "cell_type": "markdown",
   "id": "229bab04",
   "metadata": {},
   "source": [
    "Now we are plotting the Hand Temperature against Hand Acceleration, chest temperature against chest acceleration and ankle temperature against ankle acceleration. For this we have used scatter plot and we can see that its mostly distributed. the chest acceleration is almost the same for all temperature. Likewise for the rest too."
   ]
  },
  {
   "cell_type": "code",
   "execution_count": 390,
   "id": "f5feb6db",
   "metadata": {},
   "outputs": [
    {
     "data": {
      "image/png": "[encoded data removed]",
      "text/plain": [
       "<Figure size 432x288 with 1 Axes>"
      ]
     },
     "metadata": {
      "needs_background": "light"
     },
     "output_type": "display_data"
    },
    {
     "data": {
      "image/png": "[encoded data removed]",
      "text/plain": [
       "<Figure size 432x288 with 1 Axes>"
      ]
     },
     "metadata": {
      "needs_background": "light"
     },
     "output_type": "display_data"
    },
    {
     "data": {
      "image/png": "[encoded data removed]",
      "text/plain": [
       "<Figure size 432x288 with 1 Axes>"
      ]
     },
     "metadata": {
      "needs_background": "light"
     },
     "output_type": "display_data"
    }
   ],
   "source": [
    "plt.scatter(training_data['chestTemperature'] ,training_data['chestAcc'] )\n",
    "plt.xlabel('Chest Temperature')\n",
    "plt.ylabel('chestAcc')\n",
    "plt.show()\n",
    "\n",
    "plt.scatter(training_data['handTemperature'] ,training_data['handAcc'] )\n",
    "plt.xlabel('Hand Temperature')\n",
    "plt.ylabel('handAcc')\n",
    "plt.show()\n",
    "\n",
    "\n",
    "plt.scatter(training_data['ankleTemperature'] ,training_data['ankleAcc'] )\n",
    "plt.xlabel('ankle ankleTemperature')\n",
    "plt.ylabel('ankleAcc')\n",
    "plt.show()\n",
    "\n"
   ]
  },
  {
   "cell_type": "markdown",
   "id": "f57b23dd",
   "metadata": {},
   "source": [
    "# Hypothesis"
   ]
  },
  {
   "cell_type": "markdown",
   "id": "34468045",
   "metadata": {},
   "source": [
    "During EDA, the Heart Rate was identified as having the potential to allow classification of activities according to their MET equivalent. To check this a set two two hypothesis will be created which will be using the mean of heart rate for each of the MET levels. The mean of the heart rate according to the graphs we got above should be like Light is less than moderate which is less than vigorous.\n",
    "\n",
    "The First hypothesis is with the light activities and the moderate activities.\n",
    "\n",
    "### 1: If Heartrate is related with Activity level, then Heart rate of moderate activity level is greater than Heartrate of light activity level.\n",
    "\n",
    "H0: The mean hearrate of moderate activities have no difference with light activities\n",
    "\n",
    "H1: The mean heartrate of moderate activities is higher than that of light activities\n",
    "\n"
   ]
  },
  {
   "cell_type": "markdown",
   "id": "a66d1c69",
   "metadata": {},
   "source": [
    "For the hypothesis we are creating three new data frames, one for each activity level. Then in those data frames we are only putting data corresponding to that activity level"
   ]
  },
  {
   "cell_type": "code",
   "execution_count": 35,
   "id": "f10b4e8b",
   "metadata": {},
   "outputs": [],
   "source": [
    "lightdf=testing_data[testing_data['ActivityLevel']=='light']\n",
    "moddf=testing_data[testing_data['ActivityLevel']=='moderate']\n",
    "vigdf=testing_data[testing_data['ActivityLevel']=='vigorous']"
   ]
  },
  {
   "attachments": {
    "image.png": {
     "image/png": "[encoded data removed]"
    }
   },
   "cell_type": "markdown",
   "id": "91498e31",
   "metadata": {},
   "source": [
    "After that we calculate the value of p value of difference. for that we have to subtract the mean heartrate of moderate and light and then divide it by the squareroot of (moderate standard deviation/count)^2 -(light standard deviation/count)^2 . Then we will get the a value which will be stored in pv. Then the variable pv will be used to get the p value, where it will be passed to the scipy function norm.cdf which will return a value, it will be stored in Pvalue.\n",
    "\n",
    "![image.png](attachment:image.png)"
   ]
  },
  {
   "cell_type": "code",
   "execution_count": 36,
   "id": "42be8f98",
   "metadata": {},
   "outputs": [],
   "source": [
    "pv=((moddf['heartrate'].mean())-(lightdf['heartrate'].mean()))/(((moddf['heartrate'].std()**2)/(moddf['heartrate'].count()**2))-((lightdf['heartrate'].std()**2)/(lightdf['heartrate'].count()**2)))"
   ]
  },
  {
   "cell_type": "code",
   "execution_count": 37,
   "id": "87713b34",
   "metadata": {},
   "outputs": [
    {
     "data": {
      "text/plain": [
       "0.0"
      ]
     },
     "execution_count": 37,
     "metadata": {},
     "output_type": "execute_result"
    }
   ],
   "source": [
    "import scipy.stats\n",
    "pValue = 1 - scipy.stats.norm.cdf(pv)\n",
    "pValue"
   ]
  },
  {
   "cell_type": "markdown",
   "id": "1c591792",
   "metadata": {},
   "source": [
    "With a  P value of 0, the null hypothesis can be rejected. As such it can be concluded that Moderate effort activity levels will have a higher mean HR than light effort activity levels.\n",
    "\n"
   ]
  },
  {
   "cell_type": "markdown",
   "id": "bb662c7a",
   "metadata": {},
   "source": [
    "\n",
    "The Second hypothesis is with the moderate activities and the vigorous activities.\n",
    "### 2: If Heartrate is related with Activity level, then Heart rate of vigorous activity level is greater than Heartrate of moderate activity level.\n",
    "\n",
    "H0: The mean hearrate of vigorous activities have no difference with moderate activities\n",
    "\n",
    "H1: The mean heartrate of vigorous activities is higher than that of moderate activities"
   ]
  },
  {
   "attachments": {
    "image.png": {
     "image/png": "[encoded data removed]"
    }
   },
   "cell_type": "markdown",
   "id": "172fa805",
   "metadata": {},
   "source": [
    "We are calculating th P value the same way we did above. We have to subtract the mean heartrate of vigorous and moderate and then divide it by the squareroot of (vigorous standard deviation/count)^2 -(moderate standard deviation/count)^2 . Then we will get the a value which will be stored in pv. Then the variable pv will be used to get the p value, where it will be passed to the scipy function norm.cdf which will return a value, it will be stored in Pvalue.\n",
    "\n",
    "![image.png](attachment:image.png)"
   ]
  },
  {
   "cell_type": "code",
   "execution_count": 38,
   "id": "e0cd2ef8",
   "metadata": {},
   "outputs": [],
   "source": [
    "pv=((vigdf['heartrate'].mean())-(moddf['heartrate'].mean()))/(((vigdf['heartrate'].std()**2)/(vigdf['heartrate'].count()**2))-((moddf['heartrate'].std()**2)/(moddf['heartrate'].count()**2)))"
   ]
  },
  {
   "cell_type": "code",
   "execution_count": 39,
   "id": "3410786f",
   "metadata": {},
   "outputs": [
    {
     "data": {
      "text/plain": [
       "0.0"
      ]
     },
     "execution_count": 39,
     "metadata": {},
     "output_type": "execute_result"
    }
   ],
   "source": [
    "import scipy.stats\n",
    "pValue = 1 - scipy.stats.norm.cdf(pv)\n",
    "pValue"
   ]
  },
  {
   "cell_type": "markdown",
   "id": "16aa50e1",
   "metadata": {},
   "source": [
    "With the p value coming as 0.0, we can say that the null hypothesis can be rejected. Hence it can be concluded that the vigorous activity level will have higher mean HR than moderate activity level. \n",
    "\n",
    "From the above two hypothesis tests, we can conclude that hearrate and MET value will be enough tp identify the activities in the dataset.\n",
    "\n"
   ]
  },
  {
   "cell_type": "markdown",
   "id": "d7523f78",
   "metadata": {},
   "source": [
    "### 3: We want to see if theres any relation between heartrate and temperature.\n",
    "\n",
    "H0: Chest Temperature is not dependent on Heartrate\n",
    "\n",
    "H1: Chest Temperature is dependent on Heartrate\n",
    "\n",
    "For the same we are using the pearsons correlation method. And we calculate the regression r value and p value to make the decision."
   ]
  },
  {
   "cell_type": "code",
   "execution_count": 26,
   "id": "e081e673",
   "metadata": {},
   "outputs": [
    {
     "name": "stdout",
     "output_type": "stream",
     "text": [
      "stat=-0.120, p=0.000\n"
     ]
    }
   ],
   "source": [
    "from scipy.stats import pearsonr\n",
    "\n",
    "d1=testing_data['heartrate']\n",
    "d2=testing_data['chestTemperature']\n",
    "stat, p = pearsonr(d1, d2)\n",
    "print('stat=%.3f, p=%.3f' % (stat, p))"
   ]
  },
  {
   "cell_type": "markdown",
   "id": "57113f1f",
   "metadata": {},
   "source": [
    "Since the p-value is less than 0.05, the null hypothesis can be rejected. Hence from H1, we can conclude that the Chest temperature is dependent on heart rate."
   ]
  },
  {
   "cell_type": "markdown",
   "id": "585b286a",
   "metadata": {},
   "source": [
    "# Modelling"
   ]
  },
  {
   "cell_type": "markdown",
   "id": "5c599034",
   "metadata": {},
   "source": [
    "For modelling the first thing is to create a training set without any labels like activityID, timestamp, subjectID etc. Ater that we are creating another dataframe trainl which has acivityID and subject ID, this will be used afterwards for creating a dataframe."
   ]
  },
  {
   "cell_type": "code",
   "execution_count": 330,
   "id": "04543046",
   "metadata": {},
   "outputs": [],
   "source": [
    "training_data_temp=training_data.drop(['activityID','timestamp','subject_id','handGyro','chestGyro','ankleGyro','chestMag','handMag','ankleMag'],axis=1)\n",
    "trainl = training_data[['activityID','subject_id']]"
   ]
  },
  {
   "cell_type": "code",
   "execution_count": 331,
   "id": "c6ceee67",
   "metadata": {},
   "outputs": [
    {
     "data": {
      "text/html": [
       "<div>\n",
       "<style scoped>\n",
       "    .dataframe tbody tr th:only-of-type {\n",
       "        vertical-align: middle;\n",
       "    }\n",
       "\n",
       "    .dataframe tbody tr th {\n",
       "        vertical-align: top;\n",
       "    }\n",
       "\n",
       "    .dataframe thead th {\n",
       "        text-align: right;\n",
       "    }\n",
       "</style>\n",
       "<table border=\"1\" class=\"dataframe\">\n",
       "  <thead>\n",
       "    <tr style=\"text-align: right;\">\n",
       "      <th></th>\n",
       "      <th>heartrate</th>\n",
       "      <th>handAcc</th>\n",
       "      <th>chestAcc</th>\n",
       "      <th>ankleAcc</th>\n",
       "      <th>handTemperature</th>\n",
       "      <th>chestTemperature</th>\n",
       "      <th>ankleTemperature</th>\n",
       "    </tr>\n",
       "  </thead>\n",
       "  <tbody>\n",
       "    <tr>\n",
       "      <th>2625644</th>\n",
       "      <td>139.0</td>\n",
       "      <td>16.163897</td>\n",
       "      <td>13.070887</td>\n",
       "      <td>10.373201</td>\n",
       "      <td>34.2500</td>\n",
       "      <td>38.0625</td>\n",
       "      <td>34.1875</td>\n",
       "    </tr>\n",
       "    <tr>\n",
       "      <th>1098143</th>\n",
       "      <td>73.0</td>\n",
       "      <td>9.918705</td>\n",
       "      <td>9.330957</td>\n",
       "      <td>9.912648</td>\n",
       "      <td>32.8125</td>\n",
       "      <td>34.8125</td>\n",
       "      <td>33.5000</td>\n",
       "    </tr>\n",
       "    <tr>\n",
       "      <th>1870506</th>\n",
       "      <td>84.0</td>\n",
       "      <td>9.314533</td>\n",
       "      <td>9.914426</td>\n",
       "      <td>9.987989</td>\n",
       "      <td>33.8125</td>\n",
       "      <td>36.1875</td>\n",
       "      <td>34.9375</td>\n",
       "    </tr>\n",
       "    <tr>\n",
       "      <th>1097300</th>\n",
       "      <td>72.0</td>\n",
       "      <td>9.753240</td>\n",
       "      <td>9.627314</td>\n",
       "      <td>9.877875</td>\n",
       "      <td>32.8125</td>\n",
       "      <td>34.8125</td>\n",
       "      <td>33.5000</td>\n",
       "    </tr>\n",
       "    <tr>\n",
       "      <th>1059712</th>\n",
       "      <td>119.0</td>\n",
       "      <td>7.863950</td>\n",
       "      <td>13.262695</td>\n",
       "      <td>19.128132</td>\n",
       "      <td>29.4375</td>\n",
       "      <td>36.8750</td>\n",
       "      <td>34.5000</td>\n",
       "    </tr>\n",
       "    <tr>\n",
       "      <th>...</th>\n",
       "      <td>...</td>\n",
       "      <td>...</td>\n",
       "      <td>...</td>\n",
       "      <td>...</td>\n",
       "      <td>...</td>\n",
       "      <td>...</td>\n",
       "      <td>...</td>\n",
       "    </tr>\n",
       "    <tr>\n",
       "      <th>2151678</th>\n",
       "      <td>83.0</td>\n",
       "      <td>9.776432</td>\n",
       "      <td>9.658415</td>\n",
       "      <td>10.213012</td>\n",
       "      <td>30.2500</td>\n",
       "      <td>32.6875</td>\n",
       "      <td>30.1250</td>\n",
       "    </tr>\n",
       "    <tr>\n",
       "      <th>1524954</th>\n",
       "      <td>88.0</td>\n",
       "      <td>9.233299</td>\n",
       "      <td>9.796507</td>\n",
       "      <td>10.061185</td>\n",
       "      <td>35.4375</td>\n",
       "      <td>37.5625</td>\n",
       "      <td>34.5000</td>\n",
       "    </tr>\n",
       "    <tr>\n",
       "      <th>85156</th>\n",
       "      <td>104.0</td>\n",
       "      <td>9.262748</td>\n",
       "      <td>10.002432</td>\n",
       "      <td>9.786085</td>\n",
       "      <td>33.2500</td>\n",
       "      <td>35.0000</td>\n",
       "      <td>33.7500</td>\n",
       "    </tr>\n",
       "    <tr>\n",
       "      <th>1504359</th>\n",
       "      <td>88.0</td>\n",
       "      <td>13.875824</td>\n",
       "      <td>9.615096</td>\n",
       "      <td>8.623337</td>\n",
       "      <td>35.3125</td>\n",
       "      <td>37.3125</td>\n",
       "      <td>34.4375</td>\n",
       "    </tr>\n",
       "    <tr>\n",
       "      <th>474927</th>\n",
       "      <td>88.0</td>\n",
       "      <td>9.585142</td>\n",
       "      <td>9.707564</td>\n",
       "      <td>9.902596</td>\n",
       "      <td>34.3125</td>\n",
       "      <td>37.6250</td>\n",
       "      <td>35.0625</td>\n",
       "    </tr>\n",
       "  </tbody>\n",
       "</table>\n",
       "<p>122848 rows × 7 columns</p>\n",
       "</div>"
      ],
      "text/plain": [
       "         heartrate    handAcc   chestAcc   ankleAcc  handTemperature  \\\n",
       "2625644      139.0  16.163897  13.070887  10.373201          34.2500   \n",
       "1098143       73.0   9.918705   9.330957   9.912648          32.8125   \n",
       "1870506       84.0   9.314533   9.914426   9.987989          33.8125   \n",
       "1097300       72.0   9.753240   9.627314   9.877875          32.8125   \n",
       "1059712      119.0   7.863950  13.262695  19.128132          29.4375   \n",
       "...            ...        ...        ...        ...              ...   \n",
       "2151678       83.0   9.776432   9.658415  10.213012          30.2500   \n",
       "1524954       88.0   9.233299   9.796507  10.061185          35.4375   \n",
       "85156        104.0   9.262748  10.002432   9.786085          33.2500   \n",
       "1504359       88.0  13.875824   9.615096   8.623337          35.3125   \n",
       "474927        88.0   9.585142   9.707564   9.902596          34.3125   \n",
       "\n",
       "         chestTemperature  ankleTemperature  \n",
       "2625644           38.0625           34.1875  \n",
       "1098143           34.8125           33.5000  \n",
       "1870506           36.1875           34.9375  \n",
       "1097300           34.8125           33.5000  \n",
       "1059712           36.8750           34.5000  \n",
       "...                   ...               ...  \n",
       "2151678           32.6875           30.1250  \n",
       "1524954           37.5625           34.5000  \n",
       "85156             35.0000           33.7500  \n",
       "1504359           37.3125           34.4375  \n",
       "474927            37.6250           35.0625  \n",
       "\n",
       "[122848 rows x 7 columns]"
      ]
     },
     "execution_count": 331,
     "metadata": {},
     "output_type": "execute_result"
    }
   ],
   "source": [
    "training_data_temp"
   ]
  },
  {
   "cell_type": "markdown",
   "id": "c3704123",
   "metadata": {},
   "source": [
    "train_data1 is created where training_data is converted to array. Then we do the clustering which is the process of grouping data in such a way that objects in the same group or cluster are more similar to each other than to those in other clusters.\n",
    "We use the K-means clustering in which the similarity between cluster points is derived by the closeness of a point to the centroid of the cluster."
   ]
  },
  {
   "cell_type": "code",
   "execution_count": 332,
   "id": "40aa83f9",
   "metadata": {},
   "outputs": [
    {
     "data": {
      "text/plain": [
       "array([0, 1, 1, ..., 0, 1, 1])"
      ]
     },
     "execution_count": 332,
     "metadata": {},
     "output_type": "execute_result"
    }
   ],
   "source": [
    "train_data1=training_data_temp.to_numpy()\n",
    "\n",
    "K=3 # specify number of clusters\n",
    "#Clustering\n",
    "cl_K3=cluster.KMeans(init='random',n_clusters=K)\n",
    "cl_K3.fit(train_data1)  \n",
    "cl_K3.predict(train_data1)"
   ]
  },
  {
   "cell_type": "markdown",
   "id": "2f1b973a",
   "metadata": {},
   "source": [
    "Then we use the predictfunc tion to predict the label for all the data and it will be stored to ax. "
   ]
  },
  {
   "cell_type": "code",
   "execution_count": 345,
   "id": "e737ec61",
   "metadata": {},
   "outputs": [
    {
     "name": "stdout",
     "output_type": "stream",
     "text": [
      "[0 1 1 ... 0 1 1]\n"
     ]
    }
   ],
   "source": [
    "ax =cl_K3.predict(training_data_temp)\n",
    "print(ax)"
   ]
  },
  {
   "cell_type": "markdown",
   "id": "635cff82",
   "metadata": {},
   "source": [
    "A data frame train_Data1 is created, where we put a copy of traning_Data_temp and then add two more columns, one for activity and the otehr for predicted label which we created above."
   ]
  },
  {
   "cell_type": "code",
   "execution_count": 346,
   "id": "ff450e42",
   "metadata": {},
   "outputs": [
    {
     "data": {
      "text/html": [
       "<div>\n",
       "<style scoped>\n",
       "    .dataframe tbody tr th:only-of-type {\n",
       "        vertical-align: middle;\n",
       "    }\n",
       "\n",
       "    .dataframe tbody tr th {\n",
       "        vertical-align: top;\n",
       "    }\n",
       "\n",
       "    .dataframe thead th {\n",
       "        text-align: right;\n",
       "    }\n",
       "</style>\n",
       "<table border=\"1\" class=\"dataframe\">\n",
       "  <thead>\n",
       "    <tr style=\"text-align: right;\">\n",
       "      <th></th>\n",
       "      <th>heartrate</th>\n",
       "      <th>handAcc</th>\n",
       "      <th>chestAcc</th>\n",
       "      <th>ankleAcc</th>\n",
       "      <th>handTemperature</th>\n",
       "      <th>chestTemperature</th>\n",
       "      <th>ankleTemperature</th>\n",
       "      <th>activity</th>\n",
       "      <th>predicted_label</th>\n",
       "    </tr>\n",
       "  </thead>\n",
       "  <tbody>\n",
       "    <tr>\n",
       "      <th>2625644</th>\n",
       "      <td>139.0</td>\n",
       "      <td>16.163897</td>\n",
       "      <td>13.070887</td>\n",
       "      <td>10.373201</td>\n",
       "      <td>34.2500</td>\n",
       "      <td>38.0625</td>\n",
       "      <td>34.1875</td>\n",
       "      <td>12</td>\n",
       "      <td>0</td>\n",
       "    </tr>\n",
       "    <tr>\n",
       "      <th>1098143</th>\n",
       "      <td>73.0</td>\n",
       "      <td>9.918705</td>\n",
       "      <td>9.330957</td>\n",
       "      <td>9.912648</td>\n",
       "      <td>32.8125</td>\n",
       "      <td>34.8125</td>\n",
       "      <td>33.5000</td>\n",
       "      <td>1</td>\n",
       "      <td>1</td>\n",
       "    </tr>\n",
       "    <tr>\n",
       "      <th>1870506</th>\n",
       "      <td>84.0</td>\n",
       "      <td>9.314533</td>\n",
       "      <td>9.914426</td>\n",
       "      <td>9.987989</td>\n",
       "      <td>33.8125</td>\n",
       "      <td>36.1875</td>\n",
       "      <td>34.9375</td>\n",
       "      <td>17</td>\n",
       "      <td>1</td>\n",
       "    </tr>\n",
       "    <tr>\n",
       "      <th>1097300</th>\n",
       "      <td>72.0</td>\n",
       "      <td>9.753240</td>\n",
       "      <td>9.627314</td>\n",
       "      <td>9.877875</td>\n",
       "      <td>32.8125</td>\n",
       "      <td>34.8125</td>\n",
       "      <td>33.5000</td>\n",
       "      <td>1</td>\n",
       "      <td>1</td>\n",
       "    </tr>\n",
       "    <tr>\n",
       "      <th>1059712</th>\n",
       "      <td>119.0</td>\n",
       "      <td>7.863950</td>\n",
       "      <td>13.262695</td>\n",
       "      <td>19.128132</td>\n",
       "      <td>29.4375</td>\n",
       "      <td>36.8750</td>\n",
       "      <td>34.5000</td>\n",
       "      <td>4</td>\n",
       "      <td>0</td>\n",
       "    </tr>\n",
       "    <tr>\n",
       "      <th>2229737</th>\n",
       "      <td>84.0</td>\n",
       "      <td>9.289872</td>\n",
       "      <td>10.252639</td>\n",
       "      <td>9.862815</td>\n",
       "      <td>33.5625</td>\n",
       "      <td>36.3750</td>\n",
       "      <td>32.6875</td>\n",
       "      <td>17</td>\n",
       "      <td>1</td>\n",
       "    </tr>\n",
       "    <tr>\n",
       "      <th>2030534</th>\n",
       "      <td>94.0</td>\n",
       "      <td>6.605565</td>\n",
       "      <td>6.516699</td>\n",
       "      <td>10.705343</td>\n",
       "      <td>31.7500</td>\n",
       "      <td>36.5000</td>\n",
       "      <td>34.8750</td>\n",
       "      <td>4</td>\n",
       "      <td>1</td>\n",
       "    </tr>\n",
       "    <tr>\n",
       "      <th>1723120</th>\n",
       "      <td>133.0</td>\n",
       "      <td>28.771755</td>\n",
       "      <td>12.435896</td>\n",
       "      <td>15.497875</td>\n",
       "      <td>34.1250</td>\n",
       "      <td>37.6250</td>\n",
       "      <td>34.1875</td>\n",
       "      <td>6</td>\n",
       "      <td>0</td>\n",
       "    </tr>\n",
       "    <tr>\n",
       "      <th>2524767</th>\n",
       "      <td>80.0</td>\n",
       "      <td>9.729208</td>\n",
       "      <td>9.716566</td>\n",
       "      <td>9.935296</td>\n",
       "      <td>34.4375</td>\n",
       "      <td>37.5625</td>\n",
       "      <td>34.1875</td>\n",
       "      <td>3</td>\n",
       "      <td>1</td>\n",
       "    </tr>\n",
       "    <tr>\n",
       "      <th>1201439</th>\n",
       "      <td>107.0</td>\n",
       "      <td>8.067283</td>\n",
       "      <td>8.434496</td>\n",
       "      <td>10.075797</td>\n",
       "      <td>33.6875</td>\n",
       "      <td>36.0000</td>\n",
       "      <td>34.4375</td>\n",
       "      <td>16</td>\n",
       "      <td>0</td>\n",
       "    </tr>\n",
       "  </tbody>\n",
       "</table>\n",
       "</div>"
      ],
      "text/plain": [
       "         heartrate    handAcc   chestAcc   ankleAcc  handTemperature  \\\n",
       "2625644      139.0  16.163897  13.070887  10.373201          34.2500   \n",
       "1098143       73.0   9.918705   9.330957   9.912648          32.8125   \n",
       "1870506       84.0   9.314533   9.914426   9.987989          33.8125   \n",
       "1097300       72.0   9.753240   9.627314   9.877875          32.8125   \n",
       "1059712      119.0   7.863950  13.262695  19.128132          29.4375   \n",
       "2229737       84.0   9.289872  10.252639   9.862815          33.5625   \n",
       "2030534       94.0   6.605565   6.516699  10.705343          31.7500   \n",
       "1723120      133.0  28.771755  12.435896  15.497875          34.1250   \n",
       "2524767       80.0   9.729208   9.716566   9.935296          34.4375   \n",
       "1201439      107.0   8.067283   8.434496  10.075797          33.6875   \n",
       "\n",
       "         chestTemperature  ankleTemperature  activity  predicted_label  \n",
       "2625644           38.0625           34.1875        12                0  \n",
       "1098143           34.8125           33.5000         1                1  \n",
       "1870506           36.1875           34.9375        17                1  \n",
       "1097300           34.8125           33.5000         1                1  \n",
       "1059712           36.8750           34.5000         4                0  \n",
       "2229737           36.3750           32.6875        17                1  \n",
       "2030534           36.5000           34.8750         4                1  \n",
       "1723120           37.6250           34.1875         6                0  \n",
       "2524767           37.5625           34.1875         3                1  \n",
       "1201439           36.0000           34.4375        16                0  "
      ]
     },
     "execution_count": 346,
     "metadata": {},
     "output_type": "execute_result"
    }
   ],
   "source": [
    "train_data1=training_data_temp.copy(deep=True)\n",
    "train_data1['activity']=trainl['activityID']\n",
    "train_data1['predicted_label']=ax\n",
    "train_data1.head(10)\n",
    "\n",
    "\n",
    "\n",
    "#map_ac[x] for x in sampels['activityID']\n"
   ]
  },
  {
   "cell_type": "markdown",
   "id": "70206dbd",
   "metadata": {},
   "source": [
    "We plot the Heartrate against hand acceleration to see how the clusters are created, and as we can see from the graph below, its divided into three clusters, the orange one is the first one, the blue the second and green the third."
   ]
  },
  {
   "cell_type": "code",
   "execution_count": 356,
   "id": "e6027f7d",
   "metadata": {},
   "outputs": [
    {
     "data": {
      "image/png": "[encoded data removed]",
      "text/plain": [
       "<Figure size 432x288 with 1 Axes>"
      ]
     },
     "metadata": {
      "needs_background": "light"
     },
     "output_type": "display_data"
    }
   ],
   "source": [
    "plt.scatter(train_data1[train_data1['predicted_label']==0].heartrate,train_data1[train_data1['predicted_label']==0].handAcc)\n",
    "plt.scatter(train_data1[train_data1['predicted_label']==1].heartrate,train_data1[train_data1['predicted_label']==1].handAcc)\n",
    "plt.scatter(train_data1[train_data1['predicted_label']==2].heartrate,train_data1[train_data1['predicted_label']==2].handAcc)\n",
    "plt.xlabel('Heartrate')\n",
    "plt.ylabel('Hand Acceleration')\n",
    "plt.legend([0,1,2])\n",
    "plt.title('Heart rate vs Acceleration')\n",
    "plt.show()\n"
   ]
  },
  {
   "cell_type": "markdown",
   "id": "dc52c56c",
   "metadata": {},
   "source": [
    "The same way we plot graphs for Heart Rate vs Chest Acceleration, from 50 to 100 hear rate it is one clluster, then from 100 to 150 another one and 150 to 200 third one."
   ]
  },
  {
   "cell_type": "code",
   "execution_count": 358,
   "id": "95e8a1dc",
   "metadata": {},
   "outputs": [
    {
     "data": {
      "image/png": "[encoded data removed]",
      "text/plain": [
       "<Figure size 432x288 with 1 Axes>"
      ]
     },
     "metadata": {
      "needs_background": "light"
     },
     "output_type": "display_data"
    }
   ],
   "source": [
    "plt.scatter(train_data1[train_data1['predicted_label']==0].heartrate,train_data1[train_data1['predicted_label']==0].chestAcc)\n",
    "plt.scatter(train_data1[train_data1['predicted_label']==1].heartrate,train_data1[train_data1['predicted_label']==1].chestAcc)\n",
    "plt.scatter(train_data1[train_data1['predicted_label']==2].heartrate,train_data1[train_data1['predicted_label']==2].chestAcc)\n",
    "plt.xlabel('Heart rate')\n",
    "plt.ylabel('Chest Acceleration')\n",
    "plt.legend([0,1,2])\n",
    "plt.title('Heart rate vs Chest Acceleration')\n",
    "plt.show()"
   ]
  },
  {
   "cell_type": "markdown",
   "id": "684b6d01",
   "metadata": {},
   "source": [
    "The same way we plot graphs for Heart Rate vs ankle Acceleration, from 50 to 100 hear rate it is one clluster, then from 100 to 150 another one and 150 to 200 third one."
   ]
  },
  {
   "cell_type": "code",
   "execution_count": 359,
   "id": "b7adba3e",
   "metadata": {},
   "outputs": [
    {
     "data": {
      "image/png": "[encoded data removed]",
      "text/plain": [
       "<Figure size 432x288 with 1 Axes>"
      ]
     },
     "metadata": {
      "needs_background": "light"
     },
     "output_type": "display_data"
    }
   ],
   "source": [
    "plt.scatter(train_data1[train_data1['predicted_label']==0].heartrate,train_data1[train_data1['predicted_label']==0].ankleAcc)\n",
    "plt.scatter(train_data1[train_data1['predicted_label']==1].heartrate,train_data1[train_data1['predicted_label']==1].ankleAcc)\n",
    "plt.scatter(train_data1[train_data1['predicted_label']==2].heartrate,train_data1[train_data1['predicted_label']==2].ankleAcc)\n",
    "plt.xlabel('Heart rate')\n",
    "plt.ylabel('Ankle Acceleration')\n",
    "plt.legend([0,1,2])\n",
    "plt.title('Heart rate vs Ankle Acceleration')\n",
    "plt.show()"
   ]
  },
  {
   "cell_type": "markdown",
   "id": "9b594d6d",
   "metadata": {},
   "source": [
    "We create a dataframe df_label to see what has been predicted. For that we are taking the activity and the predicted labels and grouping by it. Each label represents the level of activities. The cluster 0 consists of Moderate activities, cluster 1 consists of Light activities and 2 consists of vigoroous activities. And as we can see the activities are divided into the right labels. ACtivity 1,2,3 are light activities which are in label 1. THen the activity 4, which is walking i s a moderate activity which is in label 2, then activity 5, Running is a vigorous activity is in label 2 and so on."
   ]
  },
  {
   "cell_type": "code",
   "execution_count": 338,
   "id": "9c5985d6",
   "metadata": {
    "scrolled": true
   },
   "outputs": [
    {
     "data": {
      "text/html": [
       "<div>\n",
       "<style scoped>\n",
       "    .dataframe tbody tr th:only-of-type {\n",
       "        vertical-align: middle;\n",
       "    }\n",
       "\n",
       "    .dataframe tbody tr th {\n",
       "        vertical-align: top;\n",
       "    }\n",
       "\n",
       "    .dataframe thead th {\n",
       "        text-align: right;\n",
       "    }\n",
       "</style>\n",
       "<table border=\"1\" class=\"dataframe\">\n",
       "  <thead>\n",
       "    <tr style=\"text-align: right;\">\n",
       "      <th>predicted_label</th>\n",
       "      <th>0</th>\n",
       "      <th>1</th>\n",
       "      <th>2</th>\n",
       "    </tr>\n",
       "    <tr>\n",
       "      <th>activity</th>\n",
       "      <th></th>\n",
       "      <th></th>\n",
       "      <th></th>\n",
       "    </tr>\n",
       "  </thead>\n",
       "  <tbody>\n",
       "    <tr>\n",
       "      <th>1</th>\n",
       "      <td>335.0</td>\n",
       "      <td>11981.0</td>\n",
       "      <td>NaN</td>\n",
       "    </tr>\n",
       "    <tr>\n",
       "      <th>2</th>\n",
       "      <td>207.0</td>\n",
       "      <td>11589.0</td>\n",
       "      <td>NaN</td>\n",
       "    </tr>\n",
       "    <tr>\n",
       "      <th>3</th>\n",
       "      <td>1331.0</td>\n",
       "      <td>10726.0</td>\n",
       "      <td>NaN</td>\n",
       "    </tr>\n",
       "    <tr>\n",
       "      <th>4</th>\n",
       "      <td>11829.0</td>\n",
       "      <td>2886.0</td>\n",
       "      <td>NaN</td>\n",
       "    </tr>\n",
       "    <tr>\n",
       "      <th>5</th>\n",
       "      <td>1263.0</td>\n",
       "      <td>89.0</td>\n",
       "      <td>4772.0</td>\n",
       "    </tr>\n",
       "    <tr>\n",
       "      <th>6</th>\n",
       "      <td>10199.0</td>\n",
       "      <td>135.0</td>\n",
       "      <td>66.0</td>\n",
       "    </tr>\n",
       "    <tr>\n",
       "      <th>7</th>\n",
       "      <td>10456.0</td>\n",
       "      <td>326.0</td>\n",
       "      <td>940.0</td>\n",
       "    </tr>\n",
       "    <tr>\n",
       "      <th>12</th>\n",
       "      <td>4223.0</td>\n",
       "      <td>763.0</td>\n",
       "      <td>2542.0</td>\n",
       "    </tr>\n",
       "    <tr>\n",
       "      <th>13</th>\n",
       "      <td>3562.0</td>\n",
       "      <td>797.0</td>\n",
       "      <td>2346.0</td>\n",
       "    </tr>\n",
       "    <tr>\n",
       "      <th>16</th>\n",
       "      <td>5051.0</td>\n",
       "      <td>6194.0</td>\n",
       "      <td>NaN</td>\n",
       "    </tr>\n",
       "    <tr>\n",
       "      <th>17</th>\n",
       "      <td>1758.0</td>\n",
       "      <td>13463.0</td>\n",
       "      <td>NaN</td>\n",
       "    </tr>\n",
       "    <tr>\n",
       "      <th>24</th>\n",
       "      <td>627.0</td>\n",
       "      <td>NaN</td>\n",
       "      <td>2392.0</td>\n",
       "    </tr>\n",
       "  </tbody>\n",
       "</table>\n",
       "</div>"
      ],
      "text/plain": [
       "predicted_label        0        1       2\n",
       "activity                                 \n",
       "1                  335.0  11981.0     NaN\n",
       "2                  207.0  11589.0     NaN\n",
       "3                 1331.0  10726.0     NaN\n",
       "4                11829.0   2886.0     NaN\n",
       "5                 1263.0     89.0  4772.0\n",
       "6                10199.0    135.0    66.0\n",
       "7                10456.0    326.0   940.0\n",
       "12                4223.0    763.0  2542.0\n",
       "13                3562.0    797.0  2346.0\n",
       "16                5051.0   6194.0     NaN\n",
       "17                1758.0  13463.0     NaN\n",
       "24                 627.0      NaN  2392.0"
      ]
     },
     "execution_count": 338,
     "metadata": {},
     "output_type": "execute_result"
    }
   ],
   "source": [
    "df_label = train_data1.groupby(['activity','predicted_label']).predicted_label.count().unstack()\n",
    "df_label\n"
   ]
  },
  {
   "cell_type": "markdown",
   "id": "af2f12a0",
   "metadata": {},
   "source": [
    "Now we have to test it with the testing data, and for that we are preparing the testing set. For that we do the same thing we did for the training data. Dropping all the unnecessary columns like activityID, timestamp etc.\n",
    "Then we create testl where we have two columns activityID and subjectID."
   ]
  },
  {
   "cell_type": "code",
   "execution_count": 362,
   "id": "0bc27c9d",
   "metadata": {},
   "outputs": [],
   "source": [
    "test_data_temp=testing_data.drop(['activityID','timestamp','subject_id','handGyro','chestGyro','ankleGyro','chestMag','handMag','ankleMag','ActivityLevel'],axis=1)\n",
    "testl = testing_data[['activityID','subject_id']]"
   ]
  },
  {
   "cell_type": "markdown",
   "id": "4ad4997c",
   "metadata": {},
   "source": [
    "created ax test for all the predicted labels. we are passing the test_data_temp to predict the labels."
   ]
  },
  {
   "cell_type": "code",
   "execution_count": 341,
   "id": "779eb1a8",
   "metadata": {
    "scrolled": true
   },
   "outputs": [
    {
     "name": "stdout",
     "output_type": "stream",
     "text": [
      "[1 0 1 ... 1 0 1]\n"
     ]
    }
   ],
   "source": [
    "ax_test =cl_K3.predict(test_data_temp)\n",
    "print(ax_test)"
   ]
  },
  {
   "cell_type": "markdown",
   "id": "8582f0b1",
   "metadata": {},
   "source": [
    "We then add two columns predicted_label and activity to the test_Data1 from the testl data frame"
   ]
  },
  {
   "cell_type": "code",
   "execution_count": 342,
   "id": "5fdcd5de",
   "metadata": {},
   "outputs": [
    {
     "data": {
      "text/html": [
       "<div>\n",
       "<style scoped>\n",
       "    .dataframe tbody tr th:only-of-type {\n",
       "        vertical-align: middle;\n",
       "    }\n",
       "\n",
       "    .dataframe tbody tr th {\n",
       "        vertical-align: top;\n",
       "    }\n",
       "\n",
       "    .dataframe thead th {\n",
       "        text-align: right;\n",
       "    }\n",
       "</style>\n",
       "<table border=\"1\" class=\"dataframe\">\n",
       "  <thead>\n",
       "    <tr style=\"text-align: right;\">\n",
       "      <th></th>\n",
       "      <th>heartrate</th>\n",
       "      <th>handAcc</th>\n",
       "      <th>chestAcc</th>\n",
       "      <th>ankleAcc</th>\n",
       "      <th>handTemperature</th>\n",
       "      <th>chestTemperature</th>\n",
       "      <th>ankleTemperature</th>\n",
       "      <th>predicted_label</th>\n",
       "      <th>activity</th>\n",
       "    </tr>\n",
       "  </thead>\n",
       "  <tbody>\n",
       "    <tr>\n",
       "      <th>963970</th>\n",
       "      <td>94.0</td>\n",
       "      <td>11.408266</td>\n",
       "      <td>9.751466</td>\n",
       "      <td>10.018422</td>\n",
       "      <td>33.1875</td>\n",
       "      <td>36.6875</td>\n",
       "      <td>34.0625</td>\n",
       "      <td>1</td>\n",
       "      <td>16</td>\n",
       "    </tr>\n",
       "    <tr>\n",
       "      <th>1054560</th>\n",
       "      <td>119.0</td>\n",
       "      <td>15.373321</td>\n",
       "      <td>8.965425</td>\n",
       "      <td>10.046451</td>\n",
       "      <td>29.8750</td>\n",
       "      <td>36.9375</td>\n",
       "      <td>34.5625</td>\n",
       "      <td>0</td>\n",
       "      <td>4</td>\n",
       "    </tr>\n",
       "    <tr>\n",
       "      <th>1832564</th>\n",
       "      <td>72.0</td>\n",
       "      <td>9.789977</td>\n",
       "      <td>9.935780</td>\n",
       "      <td>10.003130</td>\n",
       "      <td>33.5000</td>\n",
       "      <td>35.8750</td>\n",
       "      <td>34.7500</td>\n",
       "      <td>1</td>\n",
       "      <td>2</td>\n",
       "    </tr>\n",
       "    <tr>\n",
       "      <th>1720189</th>\n",
       "      <td>124.0</td>\n",
       "      <td>13.897841</td>\n",
       "      <td>9.355981</td>\n",
       "      <td>16.588538</td>\n",
       "      <td>34.2500</td>\n",
       "      <td>37.8125</td>\n",
       "      <td>34.2500</td>\n",
       "      <td>0</td>\n",
       "      <td>6</td>\n",
       "    </tr>\n",
       "    <tr>\n",
       "      <th>2166356</th>\n",
       "      <td>61.0</td>\n",
       "      <td>9.693993</td>\n",
       "      <td>9.858129</td>\n",
       "      <td>9.940656</td>\n",
       "      <td>31.0000</td>\n",
       "      <td>33.8125</td>\n",
       "      <td>30.8125</td>\n",
       "      <td>1</td>\n",
       "      <td>1</td>\n",
       "    </tr>\n",
       "    <tr>\n",
       "      <th>1480592</th>\n",
       "      <td>87.0</td>\n",
       "      <td>9.831521</td>\n",
       "      <td>9.895031</td>\n",
       "      <td>10.318878</td>\n",
       "      <td>35.1250</td>\n",
       "      <td>37.0625</td>\n",
       "      <td>34.3125</td>\n",
       "      <td>1</td>\n",
       "      <td>3</td>\n",
       "    </tr>\n",
       "    <tr>\n",
       "      <th>711694</th>\n",
       "      <td>131.0</td>\n",
       "      <td>9.945269</td>\n",
       "      <td>4.309880</td>\n",
       "      <td>9.365050</td>\n",
       "      <td>30.4375</td>\n",
       "      <td>35.4375</td>\n",
       "      <td>34.1250</td>\n",
       "      <td>0</td>\n",
       "      <td>7</td>\n",
       "    </tr>\n",
       "    <tr>\n",
       "      <th>2287990</th>\n",
       "      <td>72.0</td>\n",
       "      <td>10.057362</td>\n",
       "      <td>9.727764</td>\n",
       "      <td>9.911510</td>\n",
       "      <td>34.1875</td>\n",
       "      <td>37.6250</td>\n",
       "      <td>33.0625</td>\n",
       "      <td>1</td>\n",
       "      <td>12</td>\n",
       "    </tr>\n",
       "    <tr>\n",
       "      <th>555898</th>\n",
       "      <td>144.0</td>\n",
       "      <td>13.818170</td>\n",
       "      <td>14.614707</td>\n",
       "      <td>30.361028</td>\n",
       "      <td>34.1250</td>\n",
       "      <td>38.0625</td>\n",
       "      <td>35.3125</td>\n",
       "      <td>2</td>\n",
       "      <td>12</td>\n",
       "    </tr>\n",
       "    <tr>\n",
       "      <th>1831306</th>\n",
       "      <td>72.0</td>\n",
       "      <td>9.679798</td>\n",
       "      <td>9.781048</td>\n",
       "      <td>10.180866</td>\n",
       "      <td>33.5000</td>\n",
       "      <td>35.8750</td>\n",
       "      <td>34.7500</td>\n",
       "      <td>1</td>\n",
       "      <td>2</td>\n",
       "    </tr>\n",
       "  </tbody>\n",
       "</table>\n",
       "</div>"
      ],
      "text/plain": [
       "         heartrate    handAcc   chestAcc   ankleAcc  handTemperature  \\\n",
       "963970        94.0  11.408266   9.751466  10.018422          33.1875   \n",
       "1054560      119.0  15.373321   8.965425  10.046451          29.8750   \n",
       "1832564       72.0   9.789977   9.935780  10.003130          33.5000   \n",
       "1720189      124.0  13.897841   9.355981  16.588538          34.2500   \n",
       "2166356       61.0   9.693993   9.858129   9.940656          31.0000   \n",
       "1480592       87.0   9.831521   9.895031  10.318878          35.1250   \n",
       "711694       131.0   9.945269   4.309880   9.365050          30.4375   \n",
       "2287990       72.0  10.057362   9.727764   9.911510          34.1875   \n",
       "555898       144.0  13.818170  14.614707  30.361028          34.1250   \n",
       "1831306       72.0   9.679798   9.781048  10.180866          33.5000   \n",
       "\n",
       "         chestTemperature  ankleTemperature  predicted_label  activity  \n",
       "963970            36.6875           34.0625                1        16  \n",
       "1054560           36.9375           34.5625                0         4  \n",
       "1832564           35.8750           34.7500                1         2  \n",
       "1720189           37.8125           34.2500                0         6  \n",
       "2166356           33.8125           30.8125                1         1  \n",
       "1480592           37.0625           34.3125                1         3  \n",
       "711694            35.4375           34.1250                0         7  \n",
       "2287990           37.6250           33.0625                1        12  \n",
       "555898            38.0625           35.3125                2        12  \n",
       "1831306           35.8750           34.7500                1         2  "
      ]
     },
     "execution_count": 342,
     "metadata": {},
     "output_type": "execute_result"
    }
   ],
   "source": [
    "test_data_temp['predicted_label']=ax_test\n",
    "test_data1=test_data_temp.copy(deep=True)\n",
    "test_data1['activity']=testl['activityID']\n",
    "test_data1.head(10)"
   ]
  },
  {
   "cell_type": "markdown",
   "id": "a618a92b",
   "metadata": {},
   "source": [
    "we then create a dataframe d_test_label which has activity and predicted labels. And we can see the activities are divided into clusters the same way it was did for the training set. Activities1,2 and 3 are in label q which is light. Activity 4 is in label 0 which is moderate. Activity 5 is in 2 which is vigorous. Hence we can say it is working as expected"
   ]
  },
  {
   "cell_type": "code",
   "execution_count": 343,
   "id": "e15f725b",
   "metadata": {
    "scrolled": true
   },
   "outputs": [
    {
     "data": {
      "text/html": [
       "<div>\n",
       "<style scoped>\n",
       "    .dataframe tbody tr th:only-of-type {\n",
       "        vertical-align: middle;\n",
       "    }\n",
       "\n",
       "    .dataframe tbody tr th {\n",
       "        vertical-align: top;\n",
       "    }\n",
       "\n",
       "    .dataframe thead th {\n",
       "        text-align: right;\n",
       "    }\n",
       "</style>\n",
       "<table border=\"1\" class=\"dataframe\">\n",
       "  <thead>\n",
       "    <tr style=\"text-align: right;\">\n",
       "      <th>predicted_label</th>\n",
       "      <th>0</th>\n",
       "      <th>1</th>\n",
       "      <th>2</th>\n",
       "    </tr>\n",
       "    <tr>\n",
       "      <th>activity</th>\n",
       "      <th></th>\n",
       "      <th></th>\n",
       "      <th></th>\n",
       "    </tr>\n",
       "  </thead>\n",
       "  <tbody>\n",
       "    <tr>\n",
       "      <th>1</th>\n",
       "      <td>162.0</td>\n",
       "      <td>5097.0</td>\n",
       "      <td>NaN</td>\n",
       "    </tr>\n",
       "    <tr>\n",
       "      <th>2</th>\n",
       "      <td>89.0</td>\n",
       "      <td>4996.0</td>\n",
       "      <td>NaN</td>\n",
       "    </tr>\n",
       "    <tr>\n",
       "      <th>3</th>\n",
       "      <td>612.0</td>\n",
       "      <td>4587.0</td>\n",
       "      <td>NaN</td>\n",
       "    </tr>\n",
       "    <tr>\n",
       "      <th>4</th>\n",
       "      <td>5060.0</td>\n",
       "      <td>1223.0</td>\n",
       "      <td>NaN</td>\n",
       "    </tr>\n",
       "    <tr>\n",
       "      <th>5</th>\n",
       "      <td>520.0</td>\n",
       "      <td>20.0</td>\n",
       "      <td>2001.0</td>\n",
       "    </tr>\n",
       "    <tr>\n",
       "      <th>6</th>\n",
       "      <td>4445.0</td>\n",
       "      <td>54.0</td>\n",
       "      <td>34.0</td>\n",
       "    </tr>\n",
       "    <tr>\n",
       "      <th>7</th>\n",
       "      <td>4601.0</td>\n",
       "      <td>127.0</td>\n",
       "      <td>407.0</td>\n",
       "    </tr>\n",
       "    <tr>\n",
       "      <th>12</th>\n",
       "      <td>1804.0</td>\n",
       "      <td>301.0</td>\n",
       "      <td>1066.0</td>\n",
       "    </tr>\n",
       "    <tr>\n",
       "      <th>13</th>\n",
       "      <td>1514.0</td>\n",
       "      <td>334.0</td>\n",
       "      <td>1032.0</td>\n",
       "    </tr>\n",
       "    <tr>\n",
       "      <th>16</th>\n",
       "      <td>2159.0</td>\n",
       "      <td>2593.0</td>\n",
       "      <td>NaN</td>\n",
       "    </tr>\n",
       "    <tr>\n",
       "      <th>17</th>\n",
       "      <td>733.0</td>\n",
       "      <td>5742.0</td>\n",
       "      <td>NaN</td>\n",
       "    </tr>\n",
       "    <tr>\n",
       "      <th>24</th>\n",
       "      <td>262.0</td>\n",
       "      <td>NaN</td>\n",
       "      <td>1075.0</td>\n",
       "    </tr>\n",
       "  </tbody>\n",
       "</table>\n",
       "</div>"
      ],
      "text/plain": [
       "predicted_label       0       1       2\n",
       "activity                               \n",
       "1                 162.0  5097.0     NaN\n",
       "2                  89.0  4996.0     NaN\n",
       "3                 612.0  4587.0     NaN\n",
       "4                5060.0  1223.0     NaN\n",
       "5                 520.0    20.0  2001.0\n",
       "6                4445.0    54.0    34.0\n",
       "7                4601.0   127.0   407.0\n",
       "12               1804.0   301.0  1066.0\n",
       "13               1514.0   334.0  1032.0\n",
       "16               2159.0  2593.0     NaN\n",
       "17                733.0  5742.0     NaN\n",
       "24                262.0     NaN  1075.0"
      ]
     },
     "execution_count": 343,
     "metadata": {},
     "output_type": "execute_result"
    }
   ],
   "source": [
    "df_label_test = test_data1.groupby(['activity','predicted_label']).predicted_label.count().unstack()\n",
    "df_label_test"
   ]
  },
  {
   "cell_type": "markdown",
   "id": "f409b87b",
   "metadata": {},
   "source": [
    "Now we need to find the Silhouette Coefficient or silhouette score which is a metric used to calculate the goodness of a clustering technique. Its value ranges from -1 to 1.\n",
    "\n",
    "For that we import the silhouette_score function from sklearn.metrics.cluster. Then we pass the training_data_temp  to that function. And we we can see the score came out as 0.5205 which means the clusters are apart from each other and distinguished well."
   ]
  },
  {
   "cell_type": "code",
   "execution_count": 368,
   "id": "aa728bbf",
   "metadata": {},
   "outputs": [
    {
     "name": "stdout",
     "output_type": "stream",
     "text": [
      "Silhouette Score =  0.2702782813219407\n"
     ]
    }
   ],
   "source": [
    "\n",
    "from sklearn.metrics.cluster import silhouette_score \n",
    "SC_3=silhouette_score(training_data,cl_K3.labels_)\n",
    "print('Silhouette Score = ', SC_3)\n"
   ]
  },
  {
   "cell_type": "markdown",
   "id": "d5bdf5f9",
   "metadata": {},
   "source": [
    "# Conclusion"
   ]
  },
  {
   "cell_type": "markdown",
   "id": "51c8c243",
   "metadata": {},
   "source": [
    "For this report we had three objectives. First one was Cleaning up the data and exploratory data analysis. There we had removed all the transient activities and removed all the unnecessary columns as part of cleanup, then for EDA we mainly used heartrate for all the plottings and as we could see vigorous activities has more heartrate. But then we came to know that subjet 9 has some issues with the attributes in the data. \n",
    "\n",
    "Then for the second objective, we did three hypothesis. The first two was regrading the hearrate and the activity level, where we came to the conclusion that hearrate of different levels goes in the order vigorous > moderate > light. For the third hypothesis we checked if temperature is depended on hearrate came to the conclusion that it is.\n",
    "\n",
    "Then for the third objective modelling, we created clusters and then used the training data to see if the predictions was right. Afterwards we used the testing data set which also yielded the same results as the training set. Hence the modelling was successful. "
   ]
  }
 ],
 "metadata": {
  "kernelspec": {
   "display_name": "Python 3",
   "language": "python",
   "name": "python3"
  },
  "language_info": {
   "codemirror_mode": {
    "name": "ipython",
    "version": 3
   },
   "file_extension": ".py",
   "mimetype": "text/x-python",
   "name": "python",
   "nbconvert_exporter": "python",
   "pygments_lexer": "ipython3",
   "version": "3.8.8"
  }
 },
 "nbformat": 4,
 "nbformat_minor": 5
}
